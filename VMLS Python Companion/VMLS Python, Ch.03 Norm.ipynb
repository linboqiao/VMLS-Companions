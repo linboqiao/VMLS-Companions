{
 "cells": [
  {
   "cell_type": "code",
   "execution_count": 1,
   "metadata": {},
   "outputs": [],
   "source": [
    "import numpy as np\n",
    "from numpy import linalg as npl #J equiv: LinearAlgebra\n",
    "import matplotlib.pyplot as plt"
   ]
  },
  {
   "cell_type": "markdown",
   "metadata": {},
   "source": [
    "# 3.1 Norm"
   ]
  },
  {
   "cell_type": "markdown",
   "metadata": {},
   "source": [
    "Properties:\n",
    "1. Nonnegative Homogeneity: ||Bx|| = |B|||x||\n",
    "2. Triangle inequality: ||x+y|| <= ||x|| + ||y||\n",
    "3. Nonnegative: ||x|| >= 0\n",
    "4. Definite: ||x|| = 0 iff x = 0 "
   ]
  },
  {
   "cell_type": "code",
   "execution_count": 2,
   "metadata": {},
   "outputs": [
    {
     "data": {
      "text/plain": [
       "(3.0, 3.0, 3.0)"
      ]
     },
     "execution_count": 2,
     "metadata": {},
     "output_type": "execute_result"
    }
   ],
   "source": [
    "#Nonnegative homogeneity: ||Bx|| = |B|||x||\n",
    "x = [2,-1,2]\n",
    "npl.norm(x), np.sqrt(np.inner(x,x)), np.sqrt(sum(np.array(x)**2))\n",
    "#norm(x),sqrt(x'*x),sqrt(sum(x.^2)) <- J equivs"
   ]
  },
  {
   "cell_type": "code",
   "execution_count": 3,
   "metadata": {},
   "outputs": [
    {
     "data": {
      "text/plain": [
       "(4.205159460916585, 5.639880023454475)"
      ]
     },
     "execution_count": 3,
     "metadata": {},
     "output_type": "execute_result"
    }
   ],
   "source": [
    "#Triangle inequality: ||x+y|| <= ||x|| + ||y||\n",
    "x,y = np.random.randn(10), np.random.randn(10)\n",
    "npl.norm(x+y), npl.norm(x) + npl.norm(y)"
   ]
  },
  {
   "cell_type": "code",
   "execution_count": 4,
   "metadata": {
    "scrolled": true
   },
   "outputs": [
    {
     "data": {
      "text/plain": [
       "(-0.042529437832386816,\n",
       " 1.0837556422598,\n",
       " array([ 1.        ,  0.7772451 ,  0.55076804,  0.32325192,  0.09735649,\n",
       "        -0.12431346, -0.33923878, -0.54501537, -0.739382  , -0.92024623,\n",
       "        -1.08570801, -1.23408086, -1.36391021, -1.47398886, -1.56336921,\n",
       "        -1.6313723 , -1.67759342, -1.70190437, -1.7044522 , -1.68565468,\n",
       "        -1.64619233, -1.58699731, -1.50923924, -1.41430817, -1.30379488,\n",
       "        -1.17946882, -1.04325395, -0.8972028 , -0.74346905, -0.58427899,\n",
       "        -0.42190233, -0.25862246, -0.09670686,  0.06162219,  0.21421621,\n",
       "         0.35902793,  0.49413741,  0.61777625,  0.7283499 ,  0.82445752,\n",
       "         0.90490937,  0.96874134,  1.01522657,  1.04388392,  1.05448331,\n",
       "         1.04704772,  1.02185198,  0.97941823,  0.92050825,  0.84611263,\n",
       "         0.75743703,  0.65588565,  0.54304213,  0.42064812,  0.2905798 ,\n",
       "         0.15482271,  0.01544505, -0.12543001, -0.26565282, -0.40307609,\n",
       "        -0.53558374, -0.66111939, -0.7777141 , -0.88351311, -0.97680105,\n",
       "        -1.05602551, -1.11981852, -1.16701567, -1.19667275, -1.20807953,\n",
       "        -1.20077059, -1.17453306, -1.12941109, -1.06570712, -0.98397969,\n",
       "        -0.88503813, -0.76993387, -0.63994866, -0.49657978, -0.34152243,\n",
       "        -0.17664947, -0.00398877,  0.17430149,  0.35595938,  0.53864726,\n",
       "         0.71998091,  0.8975595 ,  1.06899594,  1.23194728,  1.38414475,\n",
       "         1.5234231 ,  1.64774887,  1.7552472 ,  1.84422684,  1.91320317,\n",
       "         1.9609187 ,  1.986361  ,  1.98877774,  1.9676886 ,  1.922894  ,\n",
       "         1.85448038]))"
      ]
     },
     "execution_count": 4,
     "metadata": {},
     "output_type": "execute_result"
    }
   ],
   "source": [
    "#Root Mean Square like norm but within sqrt divide by amount of values in vector\n",
    "#Gives a standard value for magnitude to compare to other vectors\n",
    "#what a \"typical\" value for abs(xi) would be\n",
    "rms = lambda x: npl.norm(x) / np.sqrt(len(x))\n",
    "t = np.linspace(0,1,101) #t = 0:.01:1\n",
    "x = np.cos(8*t) - 2*np.sin(11*t)\n",
    "np.average(x), rms(x), x"
   ]
  },
  {
   "cell_type": "code",
   "execution_count": 5,
   "metadata": {
    "scrolled": true
   },
   "outputs": [
    {
     "data": {
      "text/plain": [
       "<matplotlib.legend.Legend at 0x7f3c37184518>"
      ]
     },
     "execution_count": 5,
     "metadata": {},
     "output_type": "execute_result"
    },
    {
     "data": {
      "image/png": "[encoded data removed]",
      "text/plain": [
       "<Figure size 432x288 with 1 Axes>"
      ]
     },
     "metadata": {
      "needs_background": "light"
     },
     "output_type": "display_data"
    }
   ],
   "source": [
    "plt.plot(t,x) #some signal\n",
    "plt.plot(t, np.average(x)*np.ones(len(x))) #average of the signal:yellow\n",
    "plt.plot(t, (np.average(x)+rms(x))*np.ones(len(x))) #average + rms:green\n",
    "plt.plot(t, (np.average(x)-rms(x))*np.ones(len(x))) #average - rms:red\n",
    "plt.legend(('signal','signal avg', 'avg + rms', 'avg - rms'),\n",
    "           loc='upper left')"
   ]
  },
  {
   "cell_type": "code",
   "execution_count": 6,
   "metadata": {},
   "outputs": [
    {
     "data": {
      "text/plain": [
       "(79.0, 101, 20)"
      ]
     },
     "execution_count": 6,
     "metadata": {},
     "output_type": "execute_result"
    }
   ],
   "source": [
    "#Chebyshev's gives an upper bound for \n",
    "#how many of some value would be expected in a vector\n",
    "cheb_bound = lambda x,a: npl.norm(x)**2//a\n",
    "a = 1.5\n",
    "#where x is the array producing the signal above:\n",
    "cheb_bound(x,a), len(x), len([i for i in x if np.abs(i)>=a]) #*J Companion gets actual with:  sum([1 for i in x if np.abs(i) >= a])\n",
    "#This says there can be *at most*:\n",
    "#79 of the 101 values in x, with an absolute value of at least 1.5\n",
    "#in fact, there are 20"
   ]
  },
  {
   "cell_type": "markdown",
   "metadata": {},
   "source": [
    "# 3.2 Distance"
   ]
  },
  {
   "cell_type": "markdown",
   "metadata": {},
   "source": [
    "You can consider distance between vectors as the norm of the difference between them. ie: dist(x,y) = ||x-y||"
   ]
  },
  {
   "cell_type": "code",
   "execution_count": 7,
   "metadata": {},
   "outputs": [
    {
     "data": {
      "text/plain": [
       "(8.36779540858881, 0.3872983346207417, 8.532877591996735)"
      ]
     },
     "execution_count": 7,
     "metadata": {},
     "output_type": "execute_result"
    }
   ],
   "source": [
    "u,v,w = np.array([1.8,2.0,-3.7,4.7]),np.array([.6,2.1,1.9,-1.4]),np.array([2.0,1.9,-4,4.6])\n",
    "npl.norm(u-v),npl.norm(u-w),npl.norm(v-w) "
   ]
  },
  {
   "cell_type": "code",
   "execution_count": 8,
   "metadata": {},
   "outputs": [
    {
     "data": {
      "text/plain": [
       "([5.5, 4], [2, 1])"
      ]
     },
     "execution_count": 8,
     "metadata": {},
     "output_type": "execute_result"
    }
   ],
   "source": [
    "#You can use this notion of distance to create a \"nearest neighbor\" function:\n",
    "nearest_neighbor = lambda x,z: z[np.argmin([npl.norm(x-y) for y in z])]\n",
    "z = ([2,1],[7,2],[5.5,4],[4,8],[1,5],[9,6])\n",
    "pointa,pointb = [5,6],[3,3]\n",
    "nearest_neighbor(np.array(pointa),z), nearest_neighbor(np.array(pointb),z)"
   ]
  },
  {
   "cell_type": "code",
   "execution_count": 9,
   "metadata": {},
   "outputs": [
    {
     "data": {
      "text/plain": [
       "<matplotlib.collections.PathCollection at 0x7f3c37099160>"
      ]
     },
     "execution_count": 9,
     "metadata": {},
     "output_type": "execute_result"
    },
    {
     "data": {
      "image/png": "[encoded data removed]",
      "text/plain": [
       "<Figure size 432x288 with 1 Axes>"
      ]
     },
     "metadata": {
      "needs_background": "light"
     },
     "output_type": "display_data"
    }
   ],
   "source": [
    "plt.scatter(*zip(*z))\n",
    "n = [str(i) for i in z]\n",
    "for i, txt in enumerate(n):\n",
    "    plt.annotate(txt, (z[i][0], z[i][1]))\n",
    "plt.scatter(pointa[0],pointa[1])\n",
    "plt.scatter(pointb[0],pointb[1])"
   ]
  },
  {
   "cell_type": "markdown",
   "metadata": {},
   "source": [
    "# 3.3 Standard Deviation"
   ]
  },
  {
   "cell_type": "code",
   "execution_count": 10,
   "metadata": {},
   "outputs": [
    {
     "data": {
      "text/plain": [
       "(0.6, array([ 0.4, -2.8,  2.4]), -0.0)"
      ]
     },
     "execution_count": 10,
     "metadata": {},
     "output_type": "execute_result"
    }
   ],
   "source": [
    "#*this is in the wrong section in the J companion\n",
    "\n",
    "#De-meaning: \n",
    "#useful for understanding how entries of a vector deviate from the mean\n",
    "#also gives us SD in terms of norm\n",
    "de_mean = lambda x: x - np.average(x)\n",
    "x = np.array([1,-2.2,3])\n",
    "np.average(x), de_mean(x), np.average(de_mean(x)).round()"
   ]
  },
  {
   "cell_type": "code",
   "execution_count": 11,
   "metadata": {},
   "outputs": [
    {
     "data": {
      "text/plain": [
       "(0.29417698622563726, 0.29417698622563726)"
      ]
     },
     "execution_count": 11,
     "metadata": {},
     "output_type": "execute_result"
    }
   ],
   "source": [
    "#Standard deviation is RMS of a de-meaned vector\n",
    "#gives the typical amount that vector values deviate from mean \n",
    "x = np.random.rand(100)\n",
    "stdev = lambda x:npl.norm(x-np.average(x))/np.sqrt(len(x))\n",
    "stdev(x), np.std(x)"
   ]
  },
  {
   "cell_type": "code",
   "execution_count": 12,
   "metadata": {},
   "outputs": [
    {
     "data": {
      "text/plain": [
       "(0.5020578212236583, 0.5778046257188219, 0.0, 1.0)"
      ]
     },
     "execution_count": 12,
     "metadata": {},
     "output_type": "execute_result"
    }
   ],
   "source": [
    "standardize = lambda x: (x - np.average(x)) / rms(x - np.average(x))\n",
    "x = np.random.rand(100)\n",
    "z = standardize(x)\n",
    "np.average(x), rms(x), np.average(z).round(), rms(z)\n",
    "#Taking the average to 0 and RMS to 1"
   ]
  },
  {
   "cell_type": "markdown",
   "metadata": {},
   "source": [
    "# 3.4 Angle"
   ]
  },
  {
   "cell_type": "code",
   "execution_count": 13,
   "metadata": {},
   "outputs": [
    {
     "data": {
      "text/plain": [
       "(0.9689825515916383, 55.51861062801842)"
      ]
     },
     "execution_count": 13,
     "metadata": {},
     "output_type": "execute_result"
    }
   ],
   "source": [
    "# angle\n",
    "ang = lambda x,y: np.arccos(np.inner(x,y)/(npl.norm(x)*npl.norm(y)))\n",
    "a,b = [1,2,-1],[2,0,-3]\n",
    "ang(a,b), ang(a,b)*(360/(2*np.pi))"
   ]
  },
  {
   "cell_type": "code",
   "execution_count": 14,
   "metadata": {},
   "outputs": [
    {
     "data": {
      "text/plain": [
       "(0.9678196342570433, 11.719700681146525)"
      ]
     },
     "execution_count": 14,
     "metadata": {},
     "output_type": "execute_result"
    }
   ],
   "source": [
    "# p value: correlation coefficient is the demeaned version of an angle\n",
    "def correl_coef(a,b):\n",
    "    a_tilde = a - np.average(a)\n",
    "    b_tilde = b - np.average(b)\n",
    "    return ((np.inner(a_tilde, b_tilde))/\n",
    "            (npl.norm(a_tilde)*npl.norm(b_tilde)))\n",
    "\n",
    "a = np.array([4.4,9.4,15.4,12.4,10.4,1.4,-4.6,-5.6,-.6,7.4])\n",
    "b = np.array([6.2,11.2,14.2,14.2,8.2,2.2,-3.8,-4.8,-1.8,4.2])\n",
    "correl_coef(a,b), ang(a,b)*(360/(2*np.pi))"
   ]
  },
  {
   "cell_type": "markdown",
   "metadata": {},
   "source": [
    "# 3.5 Complexity"
   ]
  },
  {
   "cell_type": "code",
   "execution_count": 15,
   "metadata": {},
   "outputs": [
    {
     "name": "stdout",
     "output_type": "stream",
     "text": [
      "8.63 ms ± 825 µs per loop (mean ± std. dev. of 7 runs, 100 loops each)\n"
     ]
    }
   ],
   "source": [
    "x,y = np.random.rand(10**6), np.random.randn(10**6)\n",
    "%timeit correl_coef(x,y)"
   ]
  }
 ],
 "metadata": {
  "kernelspec": {
   "display_name": "Python 3",
   "language": "python",
   "name": "python3"
  },
  "language_info": {
   "codemirror_mode": {
    "name": "ipython",
    "version": 3
   },
   "file_extension": ".py",
   "mimetype": "text/x-python",
   "name": "python",
   "nbconvert_exporter": "python",
   "pygments_lexer": "ipython3",
   "version": "3.6.7"
  }
 },
 "nbformat": 4,
 "nbformat_minor": 4
}
