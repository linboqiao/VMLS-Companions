{
 "cells": [
  {
   "cell_type": "code",
   "execution_count": 1,
   "metadata": {},
   "outputs": [],
   "source": [
    "import numpy as np\n",
    "import numpy.linalg as npl\n",
    "import matplotlib.pyplot as plt"
   ]
  },
  {
   "cell_type": "markdown",
   "metadata": {},
   "source": [
    "# 4.1,2 Clustering & A Clustering Objective"
   ]
  },
  {
   "cell_type": "markdown",
   "metadata": {},
   "source": [
    "1. \"The goal of clustering is to group of partition vectors into k groups or clusters, with the vectors in each group close to each other\"\n",
    "2. Objective: A single value used to judge \"choice of clustering\": choose k"
   ]
  },
  {
   "cell_type": "code",
   "execution_count": 2,
   "metadata": {},
   "outputs": [
    {
     "data": {
      "text/plain": [
       "(2.0, 1.3333333333333333)"
      ]
     },
     "execution_count": 2,
     "metadata": {},
     "output_type": "execute_result"
    }
   ],
   "source": [
    "#given a tuple of vectors, and representatives for groups of vectors,\n",
    "#what is the average distance each vector has from a representative\n",
    "\n",
    "x = np.array([[0,1],[1,0],[-1,1]])\n",
    "reps = np.array([[1,1],[0,0]])\n",
    "\n",
    "jclust = lambda x, reps, assignment: np.average([npl.norm(x[i] - reps[assignment[i]])**2 for i in range(len(x))])\n",
    "jclust(x,reps,[0,1,0]),jclust(x,reps,[0,0,1]) #assignments are 0 indexed\n",
    "\n",
    "#How can we select the center-most (most minimal distance between vectors)\n",
    "#representative?"
   ]
  },
  {
   "cell_type": "markdown",
   "metadata": {},
   "source": [
    "# 4.3 k-Means Algorithm"
   ]
  },
  {
   "cell_type": "markdown",
   "metadata": {},
   "source": [
    "\"Iterating between choosing group representatives and choosing group assignments\""
   ]
  },
  {
   "cell_type": "markdown",
   "metadata": {},
   "source": [
    "#### Pseduo:\n",
    "1. Initialize a group of representatives either by: 1) randomly selecting from set of vectors, or 2) randomly group vectors and create mean vectors to be used as representatives.\n",
    "2. Partition vectors in k amount of groups. Assign a group for every vector associated with the nearest representative.\n",
    "    If there are any ties for vector assignments, choose the group with the smallest j value of the ties.\n",
    "    If there is an empty group, remove from list of k groups.\n",
    "    If there are two iterations without changes in vector assignments, stop algorithm.\n",
    "3. Update representatives. For every group from 1-k set the corresponding representative to be the mean of the vectors in that group.\n",
    "    If Jclust gets small, stop algorithm."
   ]
  },
  {
   "cell_type": "code",
   "execution_count": 3,
   "metadata": {},
   "outputs": [],
   "source": [
    "def kmeans(x,k,maxiters = 100, tolerance = 1e-4):\n",
    "    \n",
    "    N = len(x) #amount of vectors\n",
    "    n = len(x[0]) #dimension of each vector\n",
    "    distances = np.zeros(N) #stores distances of each pt to nearest rep\n",
    "    progress = [] #used to visualize J updates\n",
    "    jPrev = np.Infinity #placeholder for ending condition: \n",
    "                        #if previous J and current J haven't changed much,finish\n",
    "    \n",
    "    reps = [np.zeros(n) for j in range(k)] #stores representatives\n",
    "    assignment = [np.random.randint(k) for i in range(N)] #intializes a random assignment of N integers between 0 and k\n",
    "    \n",
    "    for itr in range(maxiters):\n",
    "        for j in range(k):\n",
    "            group = [i for i in range(N) if assignment[i] == j]\n",
    "            reps[j] = sum(x[group]/len(group))\n",
    "        for i in range(N):\n",
    "            #(distance and index):\n",
    "            (distances[i], assignment[i]) = np.amin([npl.norm(x[i] - reps[j]) for j in range(k)]),[npl.norm(x[i] - reps[j]) for j in range(k)].index(np.amin([npl.norm(x[i] - reps[j]) for j in range(k)]))\n",
    "        J = (npl.norm(distances)**2) / N\n",
    "        progress.append([J,itr])\n",
    "        print(\"Iteration \" + str(itr) + \": Jclust = \" + str(J)+\".\")\n",
    "        if (itr > 1) and (abs(J-jPrev) < (tolerance * J)):\n",
    "            return assignment, reps, progress\n",
    "        \n",
    "        jPrev = J  \n",
    "    return assignment, reps, progress"
   ]
  },
  {
   "cell_type": "code",
   "execution_count": 4,
   "metadata": {},
   "outputs": [],
   "source": [
    "X = np.concatenate(\n",
    "    [[.3*np.random.randn(2) for i in range(100)],\n",
    "     [np.array([1,1]) + .3*np.random.randn(2) for i in range(100)],\n",
    "     [np.array([1,-1]) + .3*np.random.randn(2) for i in range(100)]]\n",
    ")"
   ]
  },
  {
   "cell_type": "code",
   "execution_count": 5,
   "metadata": {},
   "outputs": [
    {
     "data": {
      "text/plain": [
       "((-1.5, 2.5), (-2, 2))"
      ]
     },
     "execution_count": 5,
     "metadata": {},
     "output_type": "execute_result"
    },
    {
     "data": {
      "image/png": "[encoded data removed]",
      "text/plain": [
       "<Figure size 432x288 with 1 Axes>"
      ]
     },
     "metadata": {
      "needs_background": "light"
     },
     "output_type": "display_data"
    }
   ],
   "source": [
    "plt.scatter([x[0] for x in X],[x[1] for x in X])\n",
    "plt.xlim([-1.5,2.5]),plt.ylim([-2,2])"
   ]
  },
  {
   "cell_type": "code",
   "execution_count": 6,
   "metadata": {},
   "outputs": [
    {
     "name": "stdout",
     "output_type": "stream",
     "text": [
      "Iteration 0: Jclust = 0.9646719516399778.\n",
      "Iteration 1: Jclust = 0.4811264691502557.\n",
      "Iteration 2: Jclust = 0.4758870645691086.\n",
      "Iteration 3: Jclust = 0.4758870645691086.\n"
     ]
    }
   ],
   "source": [
    "k=2\n",
    "assignment, reps, progress = kmeans(X,k)"
   ]
  },
  {
   "cell_type": "code",
   "execution_count": 7,
   "metadata": {},
   "outputs": [
    {
     "data": {
      "text/plain": [
       "((-1.5, 2.5), (-2, 2))"
      ]
     },
     "execution_count": 7,
     "metadata": {},
     "output_type": "execute_result"
    },
    {
     "data": {
      "image/png": "[encoded data removed]",
      "text/plain": [
       "<Figure size 432x288 with 1 Axes>"
      ]
     },
     "metadata": {
      "needs_background": "light"
     },
     "output_type": "display_data"
    }
   ],
   "source": [
    "groups = [[X[i] for i in range(len(X)) if assignment[i] == j] for j in range(k)]\n",
    "plt.scatter([c[0] for c in groups[0]],[c[1] for c in groups[0]])\n",
    "plt.scatter([c[0] for c in groups[1]],[c[1] for c in groups[1]])\n",
    "plt.xlim([-1.5,2.5]),plt.ylim([-2,2])"
   ]
  },
  {
   "cell_type": "code",
   "execution_count": 8,
   "metadata": {},
   "outputs": [
    {
     "name": "stdout",
     "output_type": "stream",
     "text": [
      "Iteration 0: Jclust = 0.8996932152276804.\n",
      "Iteration 1: Jclust = 0.17418897065223787.\n",
      "Iteration 2: Jclust = 0.17390992849767456.\n",
      "Iteration 3: Jclust = 0.1738777123800779.\n",
      "Iteration 4: Jclust = 0.1738777123800779.\n"
     ]
    },
    {
     "data": {
      "text/plain": [
       "((-1.5, 2.5), (-2, 2))"
      ]
     },
     "execution_count": 8,
     "metadata": {},
     "output_type": "execute_result"
    },
    {
     "data": {
      "image/png": "[encoded data removed]",
      "text/plain": [
       "<Figure size 432x288 with 1 Axes>"
      ]
     },
     "metadata": {
      "needs_background": "light"
     },
     "output_type": "display_data"
    }
   ],
   "source": [
    "k=3\n",
    "assignment, reps, progress = kmeans(X,k)\n",
    "groups = [[X[i] for i in range(len(X)) if assignment[i] == j] for j in range(k)]\n",
    "plt.scatter([c[0] for c in groups[0]],[c[1] for c in groups[0]])\n",
    "plt.scatter([c[0] for c in groups[1]],[c[1] for c in groups[1]])\n",
    "plt.scatter([c[0] for c in groups[2]],[c[1] for c in groups[2]])\n",
    "plt.xlim([-1.5,2.5]),plt.ylim([-2,2])"
   ]
  },
  {
   "cell_type": "code",
   "execution_count": 9,
   "metadata": {},
   "outputs": [
    {
     "name": "stdout",
     "output_type": "stream",
     "text": [
      "Iteration 0: Jclust = 0.8258534827372022.\n",
      "Iteration 1: Jclust = 0.3055400562346353.\n",
      "Iteration 2: Jclust = 0.1561422391939681.\n",
      "Iteration 3: Jclust = 0.15166971519143188.\n",
      "Iteration 4: Jclust = 0.15124096213588498.\n",
      "Iteration 5: Jclust = 0.15109574358426814.\n",
      "Iteration 6: Jclust = 0.15109574358426814.\n"
     ]
    },
    {
     "data": {
      "text/plain": [
       "((-1.5, 2.5), (-2, 2))"
      ]
     },
     "execution_count": 9,
     "metadata": {},
     "output_type": "execute_result"
    },
    {
     "data": {
      "image/png": "[encoded data removed]",
      "text/plain": [
       "<Figure size 432x288 with 1 Axes>"
      ]
     },
     "metadata": {
      "needs_background": "light"
     },
     "output_type": "display_data"
    }
   ],
   "source": [
    "k=4\n",
    "assignment, reps, progress = kmeans(X,k)\n",
    "groups = [[X[i] for i in range(len(X)) if assignment[i] == j] for j in range(k)]\n",
    "plt.scatter([c[0] for c in groups[0]],[c[1] for c in groups[0]])\n",
    "plt.scatter([c[0] for c in groups[1]],[c[1] for c in groups[1]])\n",
    "plt.scatter([c[0] for c in groups[2]],[c[1] for c in groups[2]])\n",
    "plt.scatter([c[0] for c in groups[3]],[c[1] for c in groups[3]])\n",
    "plt.xlim([-1.5,2.5]),plt.ylim([-2,2])\n",
    "# plt.show()\n",
    "# plt.scatter([i[1] for i in progress],[i[0] for i in progress])\n",
    "# plt.show()"
   ]
  },
  {
   "cell_type": "markdown",
   "metadata": {},
   "source": [
    "# 4.4 Examples"
   ]
  },
  {
   "cell_type": "code",
   "execution_count": null,
   "metadata": {},
   "outputs": [],
   "source": [
    "# clustering the mnist image dataset\n",
    "\n",
    "import random\n",
    "from base64 import b64decode\n",
    "from json import loads\n",
    "import numpy as np\n",
    "import matplotlib.pyplot as plt\n",
    "# set matplotlib to display all plots inline with the notebook\n",
    "%matplotlib inline\n",
    "\n",
    "def parse(x):\n",
    "    \"\"\"\n",
    "    to parse the digits file into tuples of \n",
    "    (labelled digit, numpy array of vector representation of digit)\n",
    "    \"\"\"\n",
    "    digit = loads(x)\n",
    "    array = np.fromstring(b64decode(digit[\"data\"]),dtype=np.ubyte)\n",
    "    array = array.astype(np.float64)\n",
    "    return (digit[\"label\"], array)\n",
    "\n",
    "\n",
    "# read in the digits file. Digits is a list of 60,000 tuples,\n",
    "# each containing a labelled digit and its vector representation.\n",
    "with open(\"digits.base64.json\",\"r\") as f:\n",
    "    digits = map(parse, f.readlines())\n",
    "    \n",
    "# pick a ratio for splitting the digits list into a training and a validation set.\n",
    "digits = list(digits)\n",
    "ratio = int(len(digits)*0.25)\n",
    "validation = digits[:ratio]\n",
    "training = digits[ratio:]\n",
    "\n",
    "def display_digit(digit, labeled = True, title = \"\"):\n",
    "    \"\"\" \n",
    "    graphically displays a 784x1 vector, representing a digit\n",
    "    \"\"\"\n",
    "    if labeled:\n",
    "        digit = digit[1]\n",
    "    image = digit\n",
    "    plt.figure()\n",
    "    fig = plt.imshow(image.reshape(28,28))\n",
    "    fig.set_cmap('gray_r')\n",
    "    fig.axes.get_xaxis().set_visible(False)\n",
    "    fig.axes.get_yaxis().set_visible(False)\n",
    "    if title != \"\":\n",
    "        plt.title(\"Inferred label: \" + str(title))\n",
    "        \n",
    "\n",
    "# writing Lloyd's Algorithm for K-Means clustering.\n",
    "# (This exists in various libraries, but it's good practice to write by hand.)\n",
    "def init_centroids(labelled_data,k):\n",
    "    \"\"\"\n",
    "    randomly pick some k centers from the data as starting values for centroids.\n",
    "    Remove labels.\n",
    "    \"\"\"\n",
    "    return map(lambda x: x[1], random.sample(labelled_data,k))\n",
    "\n",
    "def sum_cluster(labelled_cluster):\n",
    "    \"\"\"\n",
    "    from http://stackoverflow.com/questions/20640396/quickly-summing-numpy-arrays-element-wise\n",
    "    element-wise sums a list of arrays. assumes all datapoints in labelled_cluster are labelled.\n",
    "    \"\"\"\n",
    "    # assumes len(cluster) > 0\n",
    "    sum_ = labelled_cluster[0][1].copy()\n",
    "    for (label,vector) in labelled_cluster[1:]:\n",
    "        sum_ += vector\n",
    "    return sum_\n",
    "\n",
    "def mean_cluster(labelled_cluster):\n",
    "    \"\"\"\n",
    "    computes the mean (i.e. the centroid at the middle) of a list of vectors (a cluster).\n",
    "    take the sum and then divide by the size of the cluster.\n",
    "    assumes all datapoints in labelled_cluster are labelled.\n",
    "    \"\"\"\n",
    "    sum_of_points = sum_cluster(labelled_cluster)\n",
    "    mean_of_points = sum_of_points * (1.0 / len(labelled_cluster))\n",
    "    return mean_of_points\n",
    "\n",
    "def form_clusters(labelled_data, unlabelled_centroids):\n",
    "    \"\"\"\n",
    "    given some data and centroids for the data, allocate each datapoint\n",
    "    to its closest centroid. This forms clusters.\n",
    "    \"\"\"\n",
    "    # enumerate because centroids are arrays which are unhashable,\n",
    "    centroids_indices = range(len(unlabelled_centroids))\n",
    "    \n",
    "    # initialize an empty list for each centroid. The list will contain\n",
    "    # all the datapoints that are closer to that centroid than to any other.\n",
    "    # That list is the cluster of that centroid.\n",
    "    clusters = {c: [] for c in centroids_indices}\n",
    "    \n",
    "    for (label,Xi) in labelled_data:\n",
    "        # for each datapoint, pick the closest centroid.\n",
    "        smallest_distance = float(\"inf\")\n",
    "        for cj_index in centroids_indices:\n",
    "            cj = unlabelled_centroids[cj_index]\n",
    "            distance = np.linalg.norm(Xi - cj)\n",
    "            if distance < smallest_distance:\n",
    "                closest_centroid_index = cj_index\n",
    "                smallest_distance = distance\n",
    "        # allocate that datapoint to the cluster of that centroid.\n",
    "        clusters[closest_centroid_index].append((label,Xi))\n",
    "    return clusters.values()\n",
    "\n",
    "def move_centroids(labelled_clusters):\n",
    "    \"\"\"\n",
    "    returns a list of centroids corresponding to the clusters.\n",
    "    \"\"\"\n",
    "    new_centroids = []\n",
    "    for cluster in labelled_clusters:\n",
    "        new_centroids.append(mean_cluster(cluster))\n",
    "    return new_centroids\n",
    "\n",
    "def repeat_until_convergence(labelled_data, labelled_clusters, unlabelled_centroids):\n",
    "    \"\"\"\n",
    "    form clusters around centroids, then keep moving the centroids\n",
    "    until the moves are no longer significant, i.e. we've found\n",
    "    the best-fitting centroids for the data.\n",
    "    \"\"\"\n",
    "    previous_max_difference = 0\n",
    "    while True:\n",
    "        unlabelled_old_centroids = unlabelled_centroids\n",
    "        unlabelled_centroids = move_centroids(labelled_clusters)\n",
    "        labelled_clusters = form_clusters(labelled_data, unlabelled_centroids)\n",
    "        # we keep old_clusters and clusters so we can get the maximum difference\n",
    "        # between centroid positions every time. we say the centroids have converged\n",
    "        # when the maximum difference between centroid positions is small.   \n",
    "        differences = map(lambda a, b: np.linalg.norm(a-b),unlabelled_old_centroids,unlabelled_centroids)\n",
    "        max_difference = max(differences)\n",
    "        difference_change = abs((max_difference-previous_max_difference)/np.mean([previous_max_difference,max_difference])) * 100\n",
    "        previous_max_difference = max_difference\n",
    "        # difference change is nan once the list of differences is all zeroes.\n",
    "        if np.isnan(difference_change):\n",
    "            break\n",
    "    return labelled_clusters, unlabelled_centroids\n",
    "\n",
    "\n",
    "def cluster(labelled_data, k):\n",
    "    \"\"\"\n",
    "    runs k-means clustering on the data. It is assumed that the data is labelled.\n",
    "    \"\"\"\n",
    "    centroids = init_centroids(labelled_data, k)\n",
    "    labelled_data = list(labelled_data)\n",
    "    centroids = list(centroids)\n",
    "    clusters = form_clusters(labelled_data, centroids)\n",
    "    final_clusters, final_centroids = repeat_until_convergence(labelled_data, clusters, centroids)\n",
    "    return final_clusters, final_centroids\n",
    "\n",
    "\n",
    "def assign_labels_to_centroids(clusters, centroids):\n",
    "    \"\"\"\n",
    "    Assigns a digit label to each cluster.\n",
    "    Cluster is a list of clusters containing labelled datapoints.\n",
    "    NOTE: this function depends on clusters and centroids being in the same order.\n",
    "    \"\"\"\n",
    "    labelled_centroids = []\n",
    "    for i in range(len(clusters)):\n",
    "        labels = map(lambda x: x[0], clusters[i])\n",
    "        labels = list(labels)\n",
    "        # pick the most common label\n",
    "        most_common = max(set(labels), key=labels.count)\n",
    "        centroid = (most_common, centroids[i])\n",
    "        labelled_centroids.append(centroid)\n",
    "    return labelled_centroids\n",
    "\n",
    "def classify_digit(digit, labelled_centroids):\n",
    "    \"\"\"\n",
    "    given an unlabelled digit represented by a vector and a list of\n",
    "    labelled centroids [(label,vector)], determine the closest centroid\n",
    "    and thus classify the digit.\n",
    "    \"\"\"\n",
    "    mindistance = float(\"inf\")\n",
    "    for (label, centroid) in labelled_centroids:\n",
    "        distance = np.linalg.norm(centroid - digit)\n",
    "        if distance < mindistance:\n",
    "            mindistance = distance\n",
    "            closest_centroid_label = label\n",
    "    return closest_centroid_label\n",
    "\n",
    "def get_error_rate(digits,labelled_centroids):\n",
    "    \"\"\"\n",
    "    classifies a list of labelled digits. returns the error rate.\n",
    "    \"\"\"\n",
    "    classified_incorrect = 0\n",
    "    for (label,digit) in digits:\n",
    "        classified_label = classify_digit(digit, labelled_centroids)\n",
    "        if classified_label != label:\n",
    "            classified_incorrect +=1\n",
    "    error_rate = classified_incorrect / float(len(digits))\n",
    "    return error_rate\n",
    "\n",
    "error_rates = {x:None for x in list(range(5,25))+[100]}\n",
    "for k in range(5,25):\n",
    "    trained_clusters, trained_centroids = cluster(training, k)\n",
    "    trained_clusters, trained_centroids = list(trained_clusters), list(trained_centroids)\n",
    "    labelled_centroids = assign_labels_to_centroids(trained_clusters, trained_centroids)\n",
    "    error_rate = get_error_rate(validation, labelled_centroids)\n",
    "    error_rates[k] = error_rate\n",
    "\n",
    "# Show the error rates\n",
    "x_axis = sorted(error_rates.keys())\n",
    "y_axis = [error_rates[key] for key in x_axis]\n",
    "plt.figure()\n",
    "plt.title(\"Error Rate by Number of Clusters\")\n",
    "plt.scatter(x_axis, y_axis)\n",
    "plt.xlabel(\"Number of Clusters\")\n",
    "plt.ylabel(\"Error Rate\")\n",
    "plt.show()\n"
   ]
  },
  {
   "cell_type": "code",
   "execution_count": null,
   "metadata": {},
   "outputs": [],
   "source": [
    "\n",
    "k = 16\n",
    "trained_clusters, trained_centroids = cluster(training, k)\n",
    "labelled_centroids = assign_labels_to_centroids(trained_clusters, trained_centroids)\n"
   ]
  },
  {
   "cell_type": "code",
   "execution_count": null,
   "metadata": {},
   "outputs": [],
   "source": [
    "for x in labelled_centroids:\n",
    "    display_digit(x, title=x[0])"
   ]
  },
  {
   "cell_type": "markdown",
   "metadata": {},
   "source": [
    "# 4.5 Applications"
   ]
  },
  {
   "cell_type": "code",
   "execution_count": null,
   "metadata": {},
   "outputs": [],
   "source": []
  },
  {
   "cell_type": "code",
   "execution_count": null,
   "metadata": {},
   "outputs": [],
   "source": []
  }
 ],
 "metadata": {
  "kernelspec": {
   "display_name": "Python 3",
   "language": "python",
   "name": "python3"
  },
  "language_info": {
   "codemirror_mode": {
    "name": "ipython",
    "version": 3
   },
   "file_extension": ".py",
   "mimetype": "text/x-python",
   "name": "python",
   "nbconvert_exporter": "python",
   "pygments_lexer": "ipython3",
   "version": "3.6.7"
  }
 },
 "nbformat": 4,
 "nbformat_minor": 4
}
