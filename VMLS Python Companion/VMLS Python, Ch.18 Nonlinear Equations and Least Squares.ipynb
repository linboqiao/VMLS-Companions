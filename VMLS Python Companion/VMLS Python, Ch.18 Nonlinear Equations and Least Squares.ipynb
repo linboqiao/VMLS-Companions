{
 "cells": [
  {
   "cell_type": "code",
   "execution_count": 1,
   "metadata": {},
   "outputs": [],
   "source": [
    "import numpy as np\n",
    "import numpy.linalg as npl\n",
    "import scipy.linalg as spl\n",
    "import sklearn.metrics as sklm\n",
    "import math\n",
    "import matplotlib.pyplot as plt\n",
    "import pandas as pd #to help see arrays clearly when debugging \n",
    "plt.rcParams['figure.figsize'] = [8, 8]\n",
    "from IPython.core.interactiveshell import InteractiveShell\n",
    "InteractiveShell.ast_node_interactivity = \"all\""
   ]
  },
  {
   "cell_type": "markdown",
   "metadata": {},
   "source": [
    "# 18.1,2 Nonlinear Equations and Least Squares, Gauss-Newton Algorithm"
   ]
  },
  {
   "cell_type": "markdown",
   "metadata": {},
   "source": [
    "\"**Basic Gauss-Newton Algorithm.** Let's first implement the basic Gauss-Newton method (algorithm 18.1 in VMLS) in Julia. In Julia you can pass a function as an argument to another function ,so we can pass f (the function) and also Df (the derivative or Jacobian matrix) to our Gauss-Newton algorithm.\""
   ]
  },
  {
   "cell_type": "markdown",
   "metadata": {},
   "source": [
    "```python\n",
    "def gauss_newton(f, Df, x1, kmax = 10):\n",
    "    x = x1\n",
    "    for k in range(kmax):\n",
    "        x = x - npl.lstsq(Df(x),f(x))\n",
    "    return x\n",
    "```"
   ]
  },
  {
   "cell_type": "markdown",
   "metadata": {},
   "source": [
    "\"Here we simply run the algorithm for a fixed number of iterations kmax, specified by an optional keyword argument with default value 10. The code does not verify whether the final x is actually a solution, and it will break down when $Df(x^{(k)})$ has linearly dependent columns. This very simple implementation is only for illustrative purposes; the Levenberg-Marquardt algorithm described in the next section is better in every way.\""
   ]
  },
  {
   "cell_type": "markdown",
   "metadata": {},
   "source": [
    "\"**Newton Algorithm.** The Gauss-Newton algorithm reduces to the Newton algorithm when. the function mapps n-vectors to n-vectors, so the function above is also an implementation of the Newton method for solving nonlinear equations. The only difference with the following funciton is the stopping condition. In Newton's method one terminates when $||f(x^{k})||$ is sufficiently small.\""
   ]
  },
  {
   "cell_type": "code",
   "execution_count": 2,
   "metadata": {},
   "outputs": [],
   "source": [
    "def newton(f,Df, x1, kmax=20, tol = 1e-6):\n",
    "    x = x1\n",
    "    fnorms = [] \n",
    "    for k in range(kmax):\n",
    "        fk = f(x)\n",
    "        fnorms.append(npl.norm(fk))\n",
    "        if npl.norm(fk) < tol:\n",
    "            break\n",
    "        x = x - npl.lstsq(np.vstack([0,Df(x)]),np.vstack([0,fk]))[0]\n",
    "        #using vstacks to make lstsq work on single values\n",
    "    return x, np.vstack(fnorms)"
   ]
  },
  {
   "cell_type": "markdown",
   "metadata": {},
   "source": [
    "\"We added a second optional argument with the tolerance in the stopping condition on line 7. The default value is $10^{-6}$. We also added a second output argument ```fnorms```, with the sequence $f(x^{(k)}||$, so we can examine the covnergencei n the following examples. "
   ]
  },
  {
   "cell_type": "markdown",
   "metadata": {},
   "source": [
    "**Newton algorithm for n = 1.** Our first example is a scalar nonlinear equation f(x) = 0 with\n",
    "\n",
    "$$f(x) = \\dfrac{e^{x} - e^{-x}}{e^{x} + e^{-x}}$$\n",
    "\n",
    "(VMLS figures 18.3 and 18.4).\""
   ]
  },
  {
   "cell_type": "code",
   "execution_count": 3,
   "metadata": {},
   "outputs": [],
   "source": [
    "f = lambda x: (np.exp(x) - np.exp(-x))/(np.exp(x)+np.exp(-x))"
   ]
  },
  {
   "cell_type": "code",
   "execution_count": 4,
   "metadata": {},
   "outputs": [],
   "source": [
    "Df = lambda x: 4 / (np.exp(x) + np.exp(-x))**2"
   ]
  },
  {
   "cell_type": "markdown",
   "metadata": {},
   "source": [
    "\"We first try with $x^{(1)}$ = 0.95.\""
   ]
  },
  {
   "cell_type": "code",
   "execution_count": 5,
   "metadata": {},
   "outputs": [
    {
     "name": "stderr",
     "output_type": "stream",
     "text": [
      "/home/linbo/anaconda3/envs/nlu/lib/python3.6/site-packages/ipykernel_launcher.py:9: FutureWarning: `rcond` parameter will change to the default of machine precision times ``max(M, N)`` where M and N are the input matrix dimensions.\n",
      "To use the future default and silence this warning we advise to pass `rcond=None`, to keep using the old, explicitly pass `rcond=-1`.\n",
      "  if __name__ == '__main__':\n"
     ]
    },
    {
     "data": {
      "text/plain": [
       "array([[4.34519743e-07]])"
      ]
     },
     "execution_count": 5,
     "metadata": {},
     "output_type": "execute_result"
    },
    {
     "data": {
      "text/plain": [
       "array([[7.39783051e-01],\n",
       "       [5.94166364e-01],\n",
       "       [2.30111246e-01],\n",
       "       [8.67002865e-03],\n",
       "       [4.34519743e-07]])"
      ]
     },
     "execution_count": 5,
     "metadata": {},
     "output_type": "execute_result"
    }
   ],
   "source": [
    "x, fnorms = newton(f,Df,.95)\n",
    "x\n",
    "fnorms"
   ]
  },
  {
   "cell_type": "code",
   "execution_count": 6,
   "metadata": {},
   "outputs": [
    {
     "data": {
      "text/plain": [
       "[<matplotlib.lines.Line2D at 0x7fe43e6a9c88>]"
      ]
     },
     "execution_count": 6,
     "metadata": {},
     "output_type": "execute_result"
    },
    {
     "data": {
      "text/plain": [
       "[<matplotlib.lines.Line2D at 0x7fe43e763128>]"
      ]
     },
     "execution_count": 6,
     "metadata": {},
     "output_type": "execute_result"
    },
    {
     "data": {
      "text/plain": [
       "Text(0.5, 1.0, 'Figure 18.1 The first iterations in the Newton algorithm for solving $f(x) = 0$ for starting point $x^{(1)} = 0.95$.')"
      ]
     },
     "execution_count": 6,
     "metadata": {},
     "output_type": "execute_result"
    },
    {
     "data": {
      "image/png": "[encoded data removed]",
      "text/plain": [
       "<Figure size 432x288 with 1 Axes>"
      ]
     },
     "metadata": {
      "needs_background": "light"
     },
     "output_type": "display_data"
    }
   ],
   "source": [
    "plt.plot(fnorms)\n",
    "plt.plot(fnorms, \"o\")\n",
    "plt.title(\"Figure 18.1 The first iterations in the Newton algorithm for solving $f(x) = 0$ for starting point $x^{(1)} = 0.95$.\", fontsize=16)"
   ]
  },
  {
   "cell_type": "markdown",
   "metadata": {},
   "source": [
    "\"The method converges very quickly, as can also be seen in figure 18.1. However it does not converge for a slightly larger starting point $x^{(1)} = 1.15$.\""
   ]
  },
  {
   "cell_type": "code",
   "execution_count": 7,
   "metadata": {},
   "outputs": [
    {
     "name": "stderr",
     "output_type": "stream",
     "text": [
      "/home/linbo/anaconda3/envs/nlu/lib/python3.6/site-packages/ipykernel_launcher.py:9: FutureWarning: `rcond` parameter will change to the default of machine precision times ``max(M, N)`` where M and N are the input matrix dimensions.\n",
      "To use the future default and silence this warning we advise to pass `rcond=None`, to keep using the old, explicitly pass `rcond=-1`.\n",
      "  if __name__ == '__main__':\n",
      "/home/linbo/anaconda3/envs/nlu/lib/python3.6/site-packages/ipykernel_launcher.py:1: RuntimeWarning: overflow encountered in exp\n",
      "  \"\"\"Entry point for launching an IPython kernel.\n",
      "/home/linbo/anaconda3/envs/nlu/lib/python3.6/site-packages/ipykernel_launcher.py:1: RuntimeWarning: invalid value encountered in true_divide\n",
      "  \"\"\"Entry point for launching an IPython kernel.\n"
     ]
    },
    {
     "data": {
      "text/plain": [
       "array([[nan]])"
      ]
     },
     "execution_count": 7,
     "metadata": {},
     "output_type": "execute_result"
    },
    {
     "data": {
      "text/plain": [
       "array([[0.81775408],\n",
       "       [0.86640565],\n",
       "       [0.97355685],\n",
       "       [1.        ],\n",
       "       [       nan]])"
      ]
     },
     "execution_count": 7,
     "metadata": {},
     "output_type": "execute_result"
    },
    {
     "data": {
      "text/plain": [
       "[<matplotlib.lines.Line2D at 0x7fe438d87ba8>]"
      ]
     },
     "execution_count": 7,
     "metadata": {},
     "output_type": "execute_result"
    },
    {
     "data": {
      "image/png": "[encoded data removed]",
      "text/plain": [
       "<Figure size 432x288 with 1 Axes>"
      ]
     },
     "metadata": {
      "needs_background": "light"
     },
     "output_type": "display_data"
    }
   ],
   "source": [
    "x, fnorms = newton(f,Df, 1.15)\n",
    "f(x)\n",
    "fnorms[:5]\n",
    "plt.plot(fnorms)"
   ]
  },
  {
   "cell_type": "markdown",
   "metadata": {},
   "source": [
    "# 18.3 Levenberg-Mardquardt Algorithm"
   ]
  },
  {
   "cell_type": "markdown",
   "metadata": {},
   "source": [
    "\"The Gauss-Newton algorthim can fail if the derviative matrix does not have independent columns. It also does not guarantee that $||f(x^{(k)})||$ decreases in each iteration. Both of these shortcomings are addressed in the Levenberg-Marquardt algorithm. Below is a Julia implementation of algorithm 18.3 in VMLS. This function is included in the Vmls package.*\"\n",
    "\n",
    "*SciPy implementation: https://docs.scipy.org/doc/scipy/reference/tutorial/optimize.html"
   ]
  },
  {
   "cell_type": "code",
   "execution_count": 8,
   "metadata": {},
   "outputs": [],
   "source": [
    "def levenberg_marquardt(f, Df, x1, lambda1, kmax = 100, tol = 1e-6):\n",
    "    n = len(x1)\n",
    "    x = x1\n",
    "    lambd = lambda1\n",
    "    objectives = [] \n",
    "    residuals = []\n",
    "    for k in range(kmax):\n",
    "        fk = f(x)\n",
    "        Dfk = Df(x)\n",
    "        objectives.append(npl.norm(fk)**2)\n",
    "        residuals.append(npl.norm(2*np.matmul(Dfk.T,fk)))\n",
    "        if npl.norm(2*np.matmul(Dfk.T,fk)) < tol:\n",
    "            break\n",
    "        xt = x - npl.lstsq(np.vstack([Dfk,np.sqrt(lambd)*np.eye(n)]),np.vstack([fk,np.zeros((n,1))]))[0]\n",
    "        if npl.norm(f(xt)) < npl.norm(fk):\n",
    "            lambd = .8*lambd\n",
    "            x = xt\n",
    "        else:\n",
    "            lambd = 2.0*lambd\n",
    "    return x, dict([(\"objectives\", objectives),(\"residuals\",residuals)])"
   ]
  },
  {
   "cell_type": "markdown",
   "metadata": {},
   "source": [
    "\"Line 12 is the second stopping criterion suggested on page 393 of VMLS, and checks whether the optimality condition (18.3) is approximately satisfied. The default tolerance $10^{-6}$ can vary with the scale of the problem and the desired accuracy. Keep in midn that the otpimality condition (18.3) is a necessary condition and does not guarantee that the solution minimizes the nonlinear least squares objective $||f(x)||^{2}$. The code limits the number of iterations to $k^{max}$, after which it is assumed that the algorithm is failing to converge. \n",
    "\n",
    "The function returns a dictionary with information about the sequence of iterates, including the value of $||f(x^{(k)}||^{2}$ and $||Df(x^{(k)})^{T}f(x^{(k)}|||$ at each iteration.\n",
    "\n",
    "**Nonlinear equation.** We apply the algorithm to the scalar function (18.1) with the starting point $x^{(1)} = 1.15$.\""
   ]
  },
  {
   "cell_type": "code",
   "execution_count": 9,
   "metadata": {},
   "outputs": [
    {
     "name": "stderr",
     "output_type": "stream",
     "text": [
      "/home/linbo/anaconda3/envs/nlu/lib/python3.6/site-packages/ipykernel_launcher.py:14: FutureWarning: `rcond` parameter will change to the default of machine precision times ``max(M, N)`` where M and N are the input matrix dimensions.\n",
      "To use the future default and silence this warning we advise to pass `rcond=None`, to keep using the old, explicitly pass `rcond=-1`.\n",
      "  \n"
     ]
    },
    {
     "data": {
      "text/plain": [
       "[<matplotlib.lines.Line2D at 0x7fe438cdc390>]"
      ]
     },
     "execution_count": 9,
     "metadata": {},
     "output_type": "execute_result"
    },
    {
     "data": {
      "text/plain": [
       "[<matplotlib.lines.Line2D at 0x7fe438cdc7b8>]"
      ]
     },
     "execution_count": 9,
     "metadata": {},
     "output_type": "execute_result"
    },
    {
     "data": {
      "text/plain": [
       "Text(0.5, 0, 'k')"
      ]
     },
     "execution_count": 9,
     "metadata": {},
     "output_type": "execute_result"
    },
    {
     "data": {
      "text/plain": [
       "Text(0, 0.5, '$|f|$')"
      ]
     },
     "execution_count": 9,
     "metadata": {},
     "output_type": "execute_result"
    },
    {
     "data": {
      "text/plain": [
       "Text(0.5, 1.0, 'Figure 18.2 Values of $|f(x^{(k)})|$ versus the iteration number $k$ for the \\n Levenberg-Marquardt algorithm applied to $f(x) = \\\\dfrac{(exp(x) - exp(-x))}{(exp(x)+exp(-x))}$. \\n The starting point is $x^{(1)} = 1.15 and \\\\lambda^{(1)} = 1$.')"
      ]
     },
     "execution_count": 9,
     "metadata": {},
     "output_type": "execute_result"
    },
    {
     "data": {
      "image/png": "[encoded data removed]",
      "text/plain": [
       "<Figure size 432x288 with 1 Axes>"
      ]
     },
     "metadata": {
      "needs_background": "light"
     },
     "output_type": "display_data"
    }
   ],
   "source": [
    "f = lambda x: (np.exp(x) - np.exp(-x))/(np.exp(x)+np.exp(-x))\n",
    "Df = lambda x: 4 / (np.exp(x) + np.exp(-x))**2\n",
    "x,history = levenberg_marquardt(f,Df,np.array([1.15]), 1.0)\n",
    "plt.plot(np.sqrt(history[\"objectives\"][:10]))\n",
    "plt.plot(np.sqrt(history[\"objectives\"][:10]), \"o\")\n",
    "plt.xlabel(\"k\")\n",
    "plt.ylabel(\"$|f|$\")\n",
    "plt.title(\"Figure 18.2 Values of $|f(x^{(k)})|$ versus the iteration number $k$ for the \\n Levenberg-Marquardt algorithm applied to $f(x) = \\dfrac{(exp(x) - exp(-x))}{(exp(x)+exp(-x))}$. \\n The starting point is $x^{(1)} = 1.15 and \\lambda^{(1)} = 1$.\", fontsize=16)"
   ]
  },
  {
   "cell_type": "markdown",
   "metadata": {},
   "source": [
    "\"The result is shown in figure 18.2. \n",
    "\n",
    "Note that we defined $x^{(1)}$ as the array [1.15], and use dot-operations in the definitions of ```f``` and ```Df``` to ensure that these functions work with vector arguments. This is important because Julia distinguishes between scalars and 1-vectors. If we call the ```levenberg_marquardt``` function with a scalar argument ```x1```, line 15 will raise and error, because Julia does not accept subtractions of scalars and 1-vectors.\n",
    "\n",
    "**Equilibrium prices.** We solve a nonlinear equation $f(p) = 0$ with two variables, where \n",
    "\n",
    "$$f(p) = exp(E^{s}log p + s^{nom}) - exp(E^{d}log p + d^{nom}).$$ (18.2)\n",
    "\n",
    "Here exp and log are interpreted as element-wise vector operations. The problem parameters are $s^{nom} = (2.2,0.3), d^{nom}=(3.1,2.2),$\n",
    "\n",
    "\\begin{equation}\n",
    "E^{s} = \n",
    "\\begin{bmatrix}\n",
    "   .5 & -0.3 & \\\\\n",
    "    -0.15 & 0.8 \n",
    "\\end{bmatrix}, \n",
    "E^{d} = \n",
    "\\begin{bmatrix}\n",
    "   .5 & 0.2 & \\\\\n",
    "    0 & -0.5 \n",
    "\\end{bmatrix}\n",
    "\\end{equation}"
   ]
  },
  {
   "cell_type": "code",
   "execution_count": 10,
   "metadata": {},
   "outputs": [
    {
     "name": "stderr",
     "output_type": "stream",
     "text": [
      "/home/linbo/anaconda3/envs/nlu/lib/python3.6/site-packages/ipykernel_launcher.py:14: FutureWarning: `rcond` parameter will change to the default of machine precision times ``max(M, N)`` where M and N are the input matrix dimensions.\n",
      "To use the future default and silence this warning we advise to pass `rcond=None`, to keep using the old, explicitly pass `rcond=-1`.\n",
      "  \n"
     ]
    },
    {
     "data": {
      "text/plain": [
       "array([[5.64410853],\n",
       "       [5.26575493]])"
      ]
     },
     "execution_count": 10,
     "metadata": {},
     "output_type": "execute_result"
    },
    {
     "data": {
      "text/plain": [
       "[<matplotlib.lines.Line2D at 0x7fe438cca358>]"
      ]
     },
     "execution_count": 10,
     "metadata": {},
     "output_type": "execute_result"
    },
    {
     "data": {
      "text/plain": [
       "[<matplotlib.lines.Line2D at 0x7fe438c11a20>]"
      ]
     },
     "execution_count": 10,
     "metadata": {},
     "output_type": "execute_result"
    },
    {
     "data": {
      "text/plain": [
       "Text(0.5, 1.0, 'Figure 18.3 Cost function $||f(p^{(k)}||^2$ versus iteration number k \\n for the example of equation (18.2).')"
      ]
     },
     "execution_count": 10,
     "metadata": {},
     "output_type": "execute_result"
    },
    {
     "data": {
      "image/png": "[encoded data removed]",
      "text/plain": [
       "<Figure size 432x288 with 1 Axes>"
      ]
     },
     "metadata": {
      "needs_background": "light"
     },
     "output_type": "display_data"
    }
   ],
   "source": [
    "snom, dnom = np.array([2.2,0.3]),np.array([3.1,2.2])\n",
    "Es,Ed = np.vstack([[0.5,-.3],[-.15,.8]]),np.vstack([[-.5,.2],[-0.0,-0.5]])\n",
    "f = lambda p: np.vstack(np.exp(np.matmul(Es , np.log(p.ravel())) + snom) - np.exp(np.matmul(Ed , np.log(p.ravel())) + dnom))\n",
    "def Df(p):\n",
    "    p = p.ravel()\n",
    "    S = np.exp(np.matmul(Es , np.log(p)) + snom)\n",
    "    D = np.exp(np.matmul(Ed , np.log(p)) + dnom)\n",
    "    a = np.vstack([np.hstack([S[0]*Es[0,0]/p[0], S[0]*Es[0,1]/p[1]]),np.hstack([S[1]*Es[1,0]/p[0], S[1]*Es[1,1]/p[1]])])\n",
    "    b = np.vstack([np.hstack([D[0]*Ed[0,0]/p[0], D[0]*Ed[0,1]/p[1]]),np.hstack([D[1]*Ed[1,0]/p[0], D[1]*Ed[1,1]/p[1]])])\n",
    "    return a-b\n",
    "p,history = levenberg_marquardt(f,Df, np.vstack([3,9]), 1)\n",
    "p\n",
    "plt.plot(history[\"objectives\"])\n",
    "plt.plot(history[\"objectives\"], \"o\")\n",
    "plt.title(\"Figure 18.3 Cost function $||f(p^{(k)}||^2$ versus iteration number k \\n for the example of equation (18.2).\", fontsize=16)"
   ]
  },
  {
   "cell_type": "markdown",
   "metadata": {},
   "source": [
    "Figure 18.3 shows the plot of $||f(p^{(k)})||^2$ versus iteration number k."
   ]
  },
  {
   "cell_type": "markdown",
   "metadata": {},
   "source": [
    "\"The expression for the derivative is \n",
    "\n",
    "\\begin{equation}\n",
    "Df(x) = \n",
    "\\begin{bmatrix}\n",
    "   \\frac{x_1 - (a_{1})_{1}}{||x - a_1||} & \\frac{x_2 - (a_{1})_{2}}{||x - a_1||} & \\\\\n",
    "    \\vdots & \\vdots \\\\\n",
    "    \\frac{x_1 - (a_{m})_{1}}{||x - a_m||} & \\frac{x_2 - (a_{m})_{2}}{||x - a_m||}\n",
    "\\end{bmatrix}\n",
    ".\n",
    "\\end{equation}\n",
    "\n",
    "This can be evaluated as the product of a diagonal matrix with diagonal entries $\\frac{1}{||x-a_i||}$ and the $5 x 2$ matrix with $i,j$ entry $(x - a_i)_j$.\n",
    "\n",
    "We run the Levenberg-Marquardt method for three starting points and $\\lambda^{(1)} = 0.1.$ The plot is shown in figure 18.4."
   ]
  },
  {
   "cell_type": "code",
   "execution_count": 11,
   "metadata": {
    "scrolled": true
   },
   "outputs": [
    {
     "name": "stderr",
     "output_type": "stream",
     "text": [
      "/home/linbo/anaconda3/envs/nlu/lib/python3.6/site-packages/ipykernel_launcher.py:14: FutureWarning: `rcond` parameter will change to the default of machine precision times ``max(M, N)`` where M and N are the input matrix dimensions.\n",
      "To use the future default and silence this warning we advise to pass `rcond=None`, to keep using the old, explicitly pass `rcond=-1`.\n",
      "  \n"
     ]
    },
    {
     "data": {
      "text/plain": [
       "array([[1.18248598],\n",
       "       [0.82422894]])"
      ]
     },
     "execution_count": 11,
     "metadata": {},
     "output_type": "execute_result"
    },
    {
     "data": {
      "text/plain": [
       "array([[1.18248579],\n",
       "       [0.82422895]])"
      ]
     },
     "execution_count": 11,
     "metadata": {},
     "output_type": "execute_result"
    },
    {
     "data": {
      "text/plain": [
       "array([[2.98526641],\n",
       "       [2.1215768 ]])"
      ]
     },
     "execution_count": 11,
     "metadata": {},
     "output_type": "execute_result"
    }
   ],
   "source": [
    "#\"Five locations ai in a 5x2 matrix.\n",
    "A = np.vstack([[1.8,2.5],[2.0,1.7],[1.5,1.5],[1.5,2.0],[2.5, 1.5]])\n",
    "#Vector of measured distances to five locations.\n",
    "rhos = np.vstack([1.87288, 1.23950, .53672, 1.29273, 1.49353])\n",
    "#dist(x) returns a 5-vector with the distances ||x-ai||.\n",
    "dist = lambda x: np.vstack(np.sqrt((x[0] - A[:,0])**2 + (x[1] - A[:,1])**2))\n",
    "#f(x) returns the five residuals\n",
    "f = lambda x: dist(x) - rhos\n",
    "#Df(x) is the 5x2 derivative.\n",
    "Df = lambda x: np.matmul(np.diag(1/dist(x).T[0]) , np.array([(x[0] - A[:,0]), (x[1] - A[:,1])]).T)\n",
    "#Solve with starting point (1.8,3.5) and lambda = 0.1.\n",
    "x1, history1 = levenberg_marquardt(f,Df,np.vstack([1.8,3.5]),.1)\n",
    "x1\n",
    "x2, history2 = levenberg_marquardt(f,Df,np.vstack([3.0,1.5]),.1)\n",
    "x2\n",
    "x3, history3 = levenberg_marquardt(f,Df,np.vstack([2.2,3.5]),.1)\n",
    "x3"
   ]
  },
  {
   "cell_type": "code",
   "execution_count": 12,
   "metadata": {},
   "outputs": [
    {
     "data": {
      "text/plain": [
       "[<matplotlib.lines.Line2D at 0x7fe438da9cc0>]"
      ]
     },
     "execution_count": 12,
     "metadata": {},
     "output_type": "execute_result"
    },
    {
     "data": {
      "text/plain": [
       "[<matplotlib.lines.Line2D at 0x7fe438da9080>]"
      ]
     },
     "execution_count": 12,
     "metadata": {},
     "output_type": "execute_result"
    },
    {
     "data": {
      "text/plain": [
       "[<matplotlib.lines.Line2D at 0x7fe43e688828>]"
      ]
     },
     "execution_count": 12,
     "metadata": {},
     "output_type": "execute_result"
    },
    {
     "data": {
      "text/plain": [
       "<matplotlib.legend.Legend at 0x7fe438dd5908>"
      ]
     },
     "execution_count": 12,
     "metadata": {},
     "output_type": "execute_result"
    },
    {
     "data": {
      "text/plain": [
       "[<matplotlib.lines.Line2D at 0x7fe438dd5c88>]"
      ]
     },
     "execution_count": 12,
     "metadata": {},
     "output_type": "execute_result"
    },
    {
     "data": {
      "text/plain": [
       "[<matplotlib.lines.Line2D at 0x7fe438dd5da0>]"
      ]
     },
     "execution_count": 12,
     "metadata": {},
     "output_type": "execute_result"
    },
    {
     "data": {
      "text/plain": [
       "[<matplotlib.lines.Line2D at 0x7fe438bb76a0>]"
      ]
     },
     "execution_count": 12,
     "metadata": {},
     "output_type": "execute_result"
    },
    {
     "data": {
      "text/plain": [
       "Text(0.5, 1.0, 'Figure 18.4 Cost function $||f(x^{(k)})||^2$ versus iteration number $k$ for the\\n three starting points in the location from range measurements example.')"
      ]
     },
     "execution_count": 12,
     "metadata": {},
     "output_type": "execute_result"
    },
    {
     "data": {
      "image/png": "[encoded data removed]",
      "text/plain": [
       "<Figure size 432x288 with 1 Axes>"
      ]
     },
     "metadata": {
      "needs_background": "light"
     },
     "output_type": "display_data"
    }
   ],
   "source": [
    "plt.plot(history1[\"objectives\"][:10])\n",
    "plt.plot(history2[\"objectives\"][:10])\n",
    "plt.plot(history3[\"objectives\"][:10])\n",
    "plt.legend([\"Starting point 1\", \"Starting point 2\", \"Starting point 3\"])\n",
    "plt.plot(history1[\"objectives\"][:10], \"o\", color=\"blue\")\n",
    "plt.plot(history2[\"objectives\"][:10], \"o\", color=\"orange\")\n",
    "plt.plot(history3[\"objectives\"][:10], \"o\", color=\"green\")\n",
    "plt.title(\"Figure 18.4 Cost function $||f(x^{(k)})||^2$ versus iteration number $k$ for the\\n three starting points in the location from range measurements example.\", fontsize = 16)"
   ]
  },
  {
   "cell_type": "markdown",
   "metadata": {},
   "source": [
    "# 18.4 Nonlinear model fitting\n",
    "\n",
    "\"**Example.** We fit a model\n",
    "\n",
    "$$ \\hat{f}(x;\\theta) = \\theta_1e^{\\theta_2x}cos(\\theta_3x + \\theta_4)$$\n",
    "\n",
    "to $N = 60$ data points. We first generate the data.\n",
    "\""
   ]
  },
  {
   "cell_type": "code",
   "execution_count": 13,
   "metadata": {},
   "outputs": [],
   "source": [
    "#\"Use these parameters to generate data.\"\n",
    "theta_ex = np.vstack([1,-.2,1*np.pi/5, np.pi/3])\n",
    "M=30\n",
    "xd = np.vstack(np.array([5*np.random.rand(M),\n",
    "                5 + 15*np.random.rand(M)]).ravel())\n",
    "yd = np.vstack(theta_ex[0] * np.exp(theta_ex[1]*xd) * np.cos(theta_ex[2] * xd + theta_ex[3]))\n",
    "N = len(xd.ravel())"
   ]
  },
  {
   "cell_type": "code",
   "execution_count": 14,
   "metadata": {},
   "outputs": [],
   "source": [
    "yd = np.vstack(yd.ravel()) * np.vstack((1 + .2*np.random.randn(N)))+.015 * np.vstack(np.random.randn(N))"
   ]
  },
  {
   "cell_type": "markdown",
   "metadata": {},
   "source": [
    "\"The 60 points are shown in figure 18.5. We now run our Levenberg-Marquardt code with starting point $\\theta^{(1)} = (1,0,1,0)$ and $\\lambda^{(1)} = 1$. The fitted model is shown in figure 18.5.\""
   ]
  },
  {
   "cell_type": "code",
   "execution_count": 15,
   "metadata": {},
   "outputs": [],
   "source": [
    "theta1 = np.vstack([1,0,1,0])"
   ]
  },
  {
   "cell_type": "code",
   "execution_count": 16,
   "metadata": {},
   "outputs": [],
   "source": [
    "f = lambda theta: theta[0] * np.exp(theta[1]*xd) * np.cos(theta[2] * xd + theta[3]) - yd"
   ]
  },
  {
   "cell_type": "code",
   "execution_count": 17,
   "metadata": {},
   "outputs": [],
   "source": [
    "Df = lambda theta: np.hstack([\n",
    "    np.exp(theta[1]*xd) * np.cos(theta[2] * xd + theta[3]), \n",
    "    theta[0] * (xd * np.exp(theta[1] * xd) * np.cos(theta[2] * xd + theta[3])),\n",
    "    -theta[0] * (np.exp(theta[1] * xd) * xd * np.sin(theta[2] * xd + theta[3])),\n",
    "    -theta[0] * (np.exp(theta[1]*xd) * np.sin(theta[2] * xd + theta[3]))\n",
    "])"
   ]
  },
  {
   "cell_type": "code",
   "execution_count": 18,
   "metadata": {},
   "outputs": [
    {
     "name": "stderr",
     "output_type": "stream",
     "text": [
      "/home/linbo/anaconda3/envs/nlu/lib/python3.6/site-packages/ipykernel_launcher.py:14: FutureWarning: `rcond` parameter will change to the default of machine precision times ``max(M, N)`` where M and N are the input matrix dimensions.\n",
      "To use the future default and silence this warning we advise to pass `rcond=None`, to keep using the old, explicitly pass `rcond=-1`.\n",
      "  \n"
     ]
    },
    {
     "data": {
      "text/plain": [
       "array([[ 1.08111344],\n",
       "       [-0.23104671],\n",
       "       [ 0.63959639],\n",
       "       [ 1.03386801]])"
      ]
     },
     "execution_count": 18,
     "metadata": {},
     "output_type": "execute_result"
    }
   ],
   "source": [
    "theta, history = levenberg_marquardt(f, Df, theta1, 1.0)\n",
    "theta"
   ]
  },
  {
   "cell_type": "code",
   "execution_count": 19,
   "metadata": {},
   "outputs": [
    {
     "data": {
      "text/plain": [
       "<matplotlib.collections.PathCollection at 0x7fe438b6f7f0>"
      ]
     },
     "execution_count": 19,
     "metadata": {},
     "output_type": "execute_result"
    },
    {
     "data": {
      "text/plain": [
       "[<matplotlib.lines.Line2D at 0x7fe438b95710>]"
      ]
     },
     "execution_count": 19,
     "metadata": {},
     "output_type": "execute_result"
    },
    {
     "data": {
      "text/plain": [
       "Text(0.5, 0.98, 'Figure 18.5 Least squares fit of a function to $N=60$ points $(x^{(i)}, y^{(i)})$.')"
      ]
     },
     "execution_count": 19,
     "metadata": {},
     "output_type": "execute_result"
    },
    {
     "data": {
      "text/plain": [
       "Text(0.5, 1.0, '$\\\\hatf(x;\\\\theta) = \\\\theta_1e^{\\\\theta_2x}cos(\\\\theta_3x+\\\\theta_4)$')"
      ]
     },
     "execution_count": 19,
     "metadata": {},
     "output_type": "execute_result"
    },
    {
     "data": {
      "image/png": "[encoded data removed]",
      "text/plain": [
       "<Figure size 432x288 with 1 Axes>"
      ]
     },
     "metadata": {
      "needs_background": "light"
     },
     "output_type": "display_data"
    }
   ],
   "source": [
    "x = np.linspace(0,20,500)\n",
    "y = theta[0] * np.exp(theta[1]*x) * np.cos(theta[2]*x + theta[3])\n",
    "plt.scatter(xd,yd)\n",
    "plt.plot(x,y, \"orange\")\n",
    "plt.suptitle(r\"Figure 18.5 Least squares fit of a function to $N=60$ points $(x^{(i)}, y^{(i)})$.\", fontsize=16)\n",
    "plt.title(r\"$\\hatf(x;\\theta) = \\theta_1e^{\\theta_2x}cos(\\theta_3x+\\theta_4)$\", fontsize=16)"
   ]
  },
  {
   "cell_type": "markdown",
   "metadata": {},
   "source": [
    "**Orthogonal distance regression.** In figure 18.14 of VMLS we use orthogonal distance regression to fit a cubic polynomial\n",
    "\n",
    "$$\\hat{f}(x,\\theta = \\theta_1 + \\theta_2x + \\theta_3x^2 + \\theta_4x^3$$\n",
    "\n",
    "to $N = 25$ data points. \n",
    "\n",
    "We first read in the data and compute the standard least squares fit.\""
   ]
  },
  {
   "cell_type": "code",
   "execution_count": 20,
   "metadata": {},
   "outputs": [],
   "source": [
    "xd,yd = np.vstack([0.86386309, 0.90618764, 0.20014826, 0.85939524, 0.79595557,\n",
    "       0.33819773, 0.72932294, 0.54275044, 0.43020086, 0.39633836,\n",
    "       0.21374603, 0.13375768, 0.88272295, 0.81474823, 0.74534507,\n",
    "       0.97604522, 0.12427354, 0.63125497, 0.93099425, 0.86551811,\n",
    "       0.50123228, 0.50469551, 0.98376456, 0.84229176, 0.45119254]), np.vstack([ 0.27611492,  0.14607854, -0.17249809,  0.12608163,  0.21116035,\n",
    "       -0.17649459,  0.23701947,  0.11231777, -0.19117909, -0.13786833,\n",
    "       -0.08796589, -0.14053485,  0.22141246,  0.27933879,  0.26250175,\n",
    "       -0.06684589, -0.03550143,  0.20836081,  0.05571696,  0.1038155 ,\n",
    "        0.04986653,  0.04660768,  0.0068115 ,  0.25800022, -0.09535889])"
   ]
  },
  {
   "cell_type": "code",
   "execution_count": 21,
   "metadata": {},
   "outputs": [
    {
     "name": "stderr",
     "output_type": "stream",
     "text": [
      "/home/linbo/anaconda3/envs/nlu/lib/python3.6/site-packages/ipykernel_launcher.py:3: FutureWarning: `rcond` parameter will change to the default of machine precision times ``max(M, N)`` where M and N are the input matrix dimensions.\n",
      "To use the future default and silence this warning we advise to pass `rcond=None`, to keep using the old, explicitly pass `rcond=-1`.\n",
      "  This is separate from the ipykernel package so we can avoid doing imports until\n"
     ]
    },
    {
     "data": {
      "text/plain": [
       "array([[ 0.3275608 ],\n",
       "       [-4.39266679],\n",
       "       [11.04691736],\n",
       "       [-7.09439641]])"
      ]
     },
     "execution_count": 21,
     "metadata": {},
     "output_type": "execute_result"
    }
   ],
   "source": [
    "N = len(xd)\n",
    "p = 4\n",
    "theta_ls = npl.lstsq(np.flip(np.vander(xd.ravel(),p),1), yd)[0]\n",
    "theta_ls"
   ]
  },
  {
   "cell_type": "markdown",
   "metadata": {},
   "source": [
    "\"The nonlinear least squares formulation on page 400 of VMLS has $p + N$ variables $\\theta_1,...,\\theta_p, u^{(1)}, ..., u^{(N)}$. We will store them in that order in the nonlinear least squares vector variable. The objective is to minimize the squared norm of the $2N$-vector\n",
    "\n",
    "\\begin{bmatrix}\n",
    "   \\hat{f}(u^{(1)}; \\theta) - y^{(1)} \\\\\n",
    "    \\vdots \\\\\n",
    "    \\hat{f}(u^{(N)}; \\theta) - y^{(N)} \\\\\n",
    "    u^{(1)} - x^{(1)} \\\\\n",
    "    \\vdots \\\\\n",
    "    u^{(N)} - x^{(N)}\n",
    "\\end{bmatrix}\n"
   ]
  },
  {
   "cell_type": "code",
   "execution_count": 22,
   "metadata": {},
   "outputs": [],
   "source": [
    "def f(x):\n",
    "    theta = x[:p]\n",
    "    u = x[p:]\n",
    "    f1 = np.matmul(np.flip(np.vander(u.ravel(),p),1), theta) - yd\n",
    "    f2 = u - xd\n",
    "    return np.vstack([f1,f2])"
   ]
  },
  {
   "cell_type": "code",
   "execution_count": 23,
   "metadata": {},
   "outputs": [],
   "source": [
    "def Df(x):\n",
    "    theta = x[:p]\n",
    "    u = x[p:]\n",
    "    D11 = np.flip(np.vander(u.ravel(),p),1)\n",
    "    D12 = np.diag(theta[1] + 2*theta[2]*u.T[0] + 3*theta[3]*u.T[0]**2)\n",
    "    D21 = np.zeros((N,p))\n",
    "    D22 = np.eye(N)\n",
    "    return np.vstack([(np.hstack([D11,D12])),np.hstack([D21,D22])])"
   ]
  },
  {
   "cell_type": "markdown",
   "metadata": {},
   "source": [
    "We now call `levenberg-marquardt` with these two functions. A natural choice for the initial point is to use the least squares solution for the variables $\\theta$ and the data points $x^{(i)}$ for the variables $u^{(i)}$. We use $\\lambda^{(1)} = 0.01$."
   ]
  },
  {
   "cell_type": "code",
   "execution_count": 24,
   "metadata": {},
   "outputs": [
    {
     "name": "stderr",
     "output_type": "stream",
     "text": [
      "/home/linbo/anaconda3/envs/nlu/lib/python3.6/site-packages/ipykernel_launcher.py:14: FutureWarning: `rcond` parameter will change to the default of machine precision times ``max(M, N)`` where M and N are the input matrix dimensions.\n",
      "To use the future default and silence this warning we advise to pass `rcond=None`, to keep using the old, explicitly pass `rcond=-1`.\n",
      "  \n"
     ]
    }
   ],
   "source": [
    "sol, hist = levenberg_marquardt(f,Df, np.vstack([theta_ls,xd]), .01)\n",
    "theta_od = sol[:p]"
   ]
  },
  {
   "cell_type": "markdown",
   "metadata": {},
   "source": [
    "\"Figure 18.6 shows the two fitted polynomials.\""
   ]
  },
  {
   "cell_type": "code",
   "execution_count": 25,
   "metadata": {},
   "outputs": [
    {
     "data": {
      "text/plain": [
       "<matplotlib.collections.PathCollection at 0x7fe438b080f0>"
      ]
     },
     "execution_count": 25,
     "metadata": {},
     "output_type": "execute_result"
    },
    {
     "data": {
      "text/plain": [
       "[<matplotlib.lines.Line2D at 0x7fe438b08518>]"
      ]
     },
     "execution_count": 25,
     "metadata": {},
     "output_type": "execute_result"
    },
    {
     "data": {
      "text/plain": [
       "[<matplotlib.lines.Line2D at 0x7fe438ced908>]"
      ]
     },
     "execution_count": 25,
     "metadata": {},
     "output_type": "execute_result"
    },
    {
     "data": {
      "text/plain": [
       "<matplotlib.legend.Legend at 0x7fe438ced6d8>"
      ]
     },
     "execution_count": 25,
     "metadata": {},
     "output_type": "execute_result"
    },
    {
     "data": {
      "text/plain": [
       "Text(0.5, 1.0, 'Figure 18.6 Least squares and orthogonal distance regression \\n fit of a cubic polynomial to 25 data points.')"
      ]
     },
     "execution_count": 25,
     "metadata": {},
     "output_type": "execute_result"
    },
    {
     "data": {
      "image/png": "[encoded data removed]",
      "text/plain": [
       "<Figure size 432x288 with 1 Axes>"
      ]
     },
     "metadata": {
      "needs_background": "light"
     },
     "output_type": "display_data"
    }
   ],
   "source": [
    "plt.scatter(xd,yd)\n",
    "x = np.linspace(min(xd),max(xd),500)\n",
    "y_ls = np.matmul(np.flip(np.vander(x.ravel(),p),1) , theta_ls)\n",
    "y_od = np.matmul(np.flip(np.vander(x.ravel(),p),1), theta_od)\n",
    "plt.plot(x,y_ls)\n",
    "plt.plot(x,y_od)\n",
    "plt.legend([\"LS\",\"Orth. dist.\"])\n",
    "plt.title(\"Figure 18.6 Least squares and orthogonal distance regression \\n fit of a cubic polynomial to 25 data points.\", fontsize=16)"
   ]
  },
  {
   "cell_type": "markdown",
   "metadata": {},
   "source": [
    "# 18.5 Nonlinear Least Squares Classification"
   ]
  }
 ],
 "metadata": {
  "kernelspec": {
   "display_name": "Python 3",
   "language": "python",
   "name": "python3"
  },
  "language_info": {
   "codemirror_mode": {
    "name": "ipython",
    "version": 3
   },
   "file_extension": ".py",
   "mimetype": "text/x-python",
   "name": "python",
   "nbconvert_exporter": "python",
   "pygments_lexer": "ipython3",
   "version": "3.6.7"
  }
 },
 "nbformat": 4,
 "nbformat_minor": 4
}
