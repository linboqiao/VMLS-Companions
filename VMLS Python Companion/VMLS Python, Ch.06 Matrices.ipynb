{
 "cells": [
  {
   "cell_type": "code",
   "execution_count": 1,
   "metadata": {},
   "outputs": [],
   "source": [
    "import numpy as np\n",
    "import numpy.linalg as npl\n",
    "import math\n",
    "import matplotlib.pyplot as plt"
   ]
  },
  {
   "cell_type": "markdown",
   "metadata": {},
   "source": [
    "# 6.1 Matrices"
   ]
  },
  {
   "cell_type": "code",
   "execution_count": 2,
   "metadata": {
    "scrolled": true
   },
   "outputs": [
    {
     "data": {
      "text/plain": [
       "matrix([[ 0. ,  1. , -2.3,  0.1],\n",
       "        [ 1.3,  4. , -0.1,  0. ],\n",
       "        [ 4.1, -1. ,  0. ,  1.7]])"
      ]
     },
     "execution_count": 2,
     "metadata": {},
     "output_type": "execute_result"
    }
   ],
   "source": [
    "A = np.matrix([[0.0, 1.0, -2.3, 0.1], [1.3, 4.0, -0.1, 0.0],[4.1,-1.0, 0.0, 1.7]])\n",
    "A #in Julia you ommit the multiple array brackets and commas, \n",
    "  #and use semi colons to break rows"
   ]
  },
  {
   "cell_type": "code",
   "execution_count": 3,
   "metadata": {},
   "outputs": [
    {
     "data": {
      "text/plain": [
       "(3, 4, 3, 4)"
      ]
     },
     "execution_count": 3,
     "metadata": {},
     "output_type": "execute_result"
    }
   ],
   "source": [
    "m,n = np.shape(A) #J: m,n = size(A)\n",
    "m,n, np.shape(A)[0],np.shape(A)[1] #J: size(A,1)"
   ]
  },
  {
   "cell_type": "code",
   "execution_count": 4,
   "metadata": {},
   "outputs": [
    {
     "data": {
      "text/plain": [
       "False"
      ]
     },
     "execution_count": 4,
     "metadata": {},
     "output_type": "execute_result"
    }
   ],
   "source": [
    "isTall = lambda x: np.shape(A)[0] > np.shape(A)[1] #J: size(X,1)>size(X,2)\n",
    "isTall(A)"
   ]
  },
  {
   "cell_type": "code",
   "execution_count": 5,
   "metadata": {},
   "outputs": [
    {
     "data": {
      "text/plain": [
       "(-0.1, -2.3, -1.0)"
      ]
     },
     "execution_count": 5,
     "metadata": {},
     "output_type": "execute_result"
    }
   ],
   "source": [
    "A[1,2], A[0,2], A[2,1] #Coordinates can be interpreted as y,x\n",
    "                       #or list index, item index"
   ]
  },
  {
   "cell_type": "code",
   "execution_count": 6,
   "metadata": {},
   "outputs": [
    {
     "data": {
      "text/plain": [
       "2"
      ]
     },
     "execution_count": 6,
     "metadata": {},
     "output_type": "execute_result"
    }
   ],
   "source": [
    "Z = np.matrix([[-1,0,2],[-1,2,-3]])\n",
    "Z[1,1] #J: Z[5]"
   ]
  },
  {
   "cell_type": "code",
   "execution_count": 7,
   "metadata": {},
   "outputs": [
    {
     "data": {
      "text/plain": [
       "(False, matrix([[ True,  True,  True,  True],\n",
       "         [ True, False,  True,  True],\n",
       "         [ True,  True,  True,  True]]))"
      ]
     },
     "execution_count": 7,
     "metadata": {},
     "output_type": "execute_result"
    }
   ],
   "source": [
    "B = A.copy()\n",
    "B[1,1] = 0\n",
    "np.array_equal(A,B), A==B #J: second eval would get first result , second result done with .="
   ]
  },
  {
   "cell_type": "code",
   "execution_count": 8,
   "metadata": {},
   "outputs": [
    {
     "data": {
      "text/plain": [
       "(11, matrix([[3, 2, 3, 3]]))"
      ]
     },
     "execution_count": 8,
     "metadata": {},
     "output_type": "execute_result"
    }
   ],
   "source": [
    "np.sum(A==B), sum(A==B)"
   ]
  },
  {
   "cell_type": "code",
   "execution_count": 9,
   "metadata": {},
   "outputs": [
    {
     "data": {
      "text/plain": [
       "(matrix([[-2.1, -3. ,  0. ]]), array([-2.1, -3. ,  0. ]))"
      ]
     },
     "execution_count": 9,
     "metadata": {},
     "output_type": "execute_result"
    }
   ],
   "source": [
    "a = np.matrix([-2.1, -3, 0])\n",
    "b = np.array([-2.1, -3, 0])\n",
    "a,b"
   ]
  },
  {
   "cell_type": "code",
   "execution_count": 10,
   "metadata": {},
   "outputs": [
    {
     "data": {
      "text/plain": [
       "matrix([[-1,  0,  1,  0],\n",
       "        [ 2, -3,  0,  1],\n",
       "        [ 0,  4, -2,  1]])"
      ]
     },
     "execution_count": 10,
     "metadata": {},
     "output_type": "execute_result"
    }
   ],
   "source": [
    "A = np.matrix([[-1, 0, 1, 0], [2,-3,0,1],[0,4,-2,1]])\n",
    "A"
   ]
  },
  {
   "cell_type": "code",
   "execution_count": 11,
   "metadata": {},
   "outputs": [
    {
     "data": {
      "text/plain": [
       "matrix([[1, 0],\n",
       "        [0, 1]])"
      ]
     },
     "execution_count": 11,
     "metadata": {},
     "output_type": "execute_result"
    }
   ],
   "source": [
    "A[0:2,2:4] \n",
    "\n",
    "#in J: [1:2,3:4]\n",
    "#difference because 1) 0 indexing vs 1 indexing\n",
    "#                   2) slice value exclusive vs inclusive\n",
    "#                   ie: [0:2] in python says lists 0 and 1\n",
    "#                       [1:2] in julia says lists 1 and 2               "
   ]
  },
  {
   "cell_type": "code",
   "execution_count": 12,
   "metadata": {},
   "outputs": [
    {
     "data": {
      "text/plain": [
       "matrix([[ 1],\n",
       "        [ 0],\n",
       "        [-2]])"
      ]
     },
     "execution_count": 12,
     "metadata": {},
     "output_type": "execute_result"
    }
   ],
   "source": [
    "A[:,2] #J: [:,3]"
   ]
  },
  {
   "cell_type": "code",
   "execution_count": 13,
   "metadata": {},
   "outputs": [
    {
     "data": {
      "text/plain": [
       "(matrix([[ 2, -3,  0,  1]]), matrix([[ 2, -3,  0,  1]]))"
      ]
     },
     "execution_count": 13,
     "metadata": {},
     "output_type": "execute_result"
    }
   ],
   "source": [
    "np.vstack(A[1,:]),A[1,:]\n",
    "#J: this *row* will automatically get returned as a *col* (???)"
   ]
  },
  {
   "cell_type": "code",
   "execution_count": 14,
   "metadata": {},
   "outputs": [
    {
     "data": {
      "text/plain": [
       "matrix([[ 0,  4, -2,  1],\n",
       "        [ 2, -3,  0,  1],\n",
       "        [-1,  0,  1,  0]])"
      ]
     },
     "execution_count": 14,
     "metadata": {},
     "output_type": "execute_result"
    }
   ],
   "source": [
    "m = np.shape(A)[0]\n",
    "A[::-1] #J: [m:-1:1,:]"
   ]
  },
  {
   "cell_type": "code",
   "execution_count": 15,
   "metadata": {},
   "outputs": [
    {
     "data": {
      "text/plain": [
       "matrix([[ 1, -3],\n",
       "        [ 2,  0],\n",
       "        [ 1, -2]])"
      ]
     },
     "execution_count": 15,
     "metadata": {},
     "output_type": "execute_result"
    }
   ],
   "source": [
    "B = np.matrix([[1,-3],[2,0],[1,-2]])\n",
    "B"
   ]
  },
  {
   "cell_type": "code",
   "execution_count": 16,
   "metadata": {},
   "outputs": [
    {
     "data": {
      "text/plain": [
       "matrix([[ 1, -3,  2,  0,  1, -2]])"
      ]
     },
     "execution_count": 16,
     "metadata": {},
     "output_type": "execute_result"
    }
   ],
   "source": [
    "np.vstack(B.flatten())\n",
    "# J: B[:]\n",
    "#can also use: np.matrix(B.A1).transpose(), B.ravel().transpose()"
   ]
  },
  {
   "cell_type": "code",
   "execution_count": 17,
   "metadata": {},
   "outputs": [
    {
     "data": {
      "text/plain": [
       "matrix([[ 1, -3,  2],\n",
       "        [ 0,  1, -2]])"
      ]
     },
     "execution_count": 17,
     "metadata": {},
     "output_type": "execute_result"
    }
   ],
   "source": [
    "np.reshape(B,(2,3))\n",
    "# Here numpy reads the matrix from left to right as it originally was\n",
    "# and writes them row wise\n",
    "# In Julia (2,3) reads the first values in each list, and writes them\n",
    "# column wise:\n",
    "# 1 1 0\n",
    "# 2 -3 -2"
   ]
  },
  {
   "cell_type": "code",
   "execution_count": 18,
   "metadata": {},
   "outputs": [
    {
     "data": {
      "text/plain": [
       "matrix([[ 0,  2,  3, -1],\n",
       "        [ 2,  2,  1,  4],\n",
       "        [ 1,  3,  5,  4]])"
      ]
     },
     "execution_count": 18,
     "metadata": {},
     "output_type": "execute_result"
    }
   ],
   "source": [
    "B = np.matrix([0,2,3])\n",
    "C = np.matrix([-1])\n",
    "D = np.matrix([[2,2,1],[1,3,5]])\n",
    "E = np.matrix([[4],[4]])\n",
    "A = np.block([[B,C],[D,E]]) #J: A = [B C; D E]\n",
    "A"
   ]
  },
  {
   "cell_type": "code",
   "execution_count": 19,
   "metadata": {},
   "outputs": [
    {
     "data": {
      "text/plain": [
       "array([[1., 2.],\n",
       "       [4., 5.],\n",
       "       [7., 8.]])"
      ]
     },
     "execution_count": 19,
     "metadata": {},
     "output_type": "execute_result"
    }
   ],
   "source": [
    "a = np.array([[1.,2.],[4.,5.],[7.,8.]])\n",
    "a"
   ]
  },
  {
   "cell_type": "code",
   "execution_count": 20,
   "metadata": {},
   "outputs": [
    {
     "data": {
      "text/plain": [
       "array([[1., 4., 7.],\n",
       "       [2., 5., 8.]])"
      ]
     },
     "execution_count": 20,
     "metadata": {},
     "output_type": "execute_result"
    }
   ],
   "source": [
    "A = np.stack(a,-1) #J: A = hcat(a...)\n",
    "A"
   ]
  },
  {
   "cell_type": "code",
   "execution_count": 21,
   "metadata": {},
   "outputs": [
    {
     "data": {
      "text/plain": [
       "array([[1., 2.],\n",
       "       [4., 5.],\n",
       "       [7., 8.]])"
      ]
     },
     "execution_count": 21,
     "metadata": {},
     "output_type": "execute_result"
    }
   ],
   "source": [
    "A = np.stack(a,1) #J: A = vcat(a...)\n",
    "a"
   ]
  },
  {
   "cell_type": "code",
   "execution_count": 22,
   "metadata": {},
   "outputs": [
    {
     "name": "stderr",
     "output_type": "stream",
     "text": [
      "/home/linbo/anaconda3/envs/nlu/lib/python3.6/site-packages/networkx/drawing/nx_pylab.py:611: MatplotlibDeprecationWarning: isinstance(..., numbers.Number)\n",
      "  if cb.is_numlike(alpha):\n"
     ]
    },
    {
     "data": {
      "image/png": "[encoded data removed]",
      "text/plain": [
       "<Figure size 432x288 with 1 Axes>"
      ]
     },
     "metadata": {
      "needs_background": "light"
     },
     "output_type": "display_data"
    }
   ],
   "source": [
    "#detour from companion to sketch adjacency matrix example from p112 of VMLS\n",
    "import networkx as nx\n",
    "pg112 = np.matrix([[0,1,1,0],[1,0,0,1],[0,0,0,1],[1,0,0,0]])\n",
    "G = nx.from_numpy_matrix(pg112)\n",
    "pos = nx.layout.spring_layout(G)\n",
    "node_sizes = [3 + 10 * i for i in range(len(G))]\n",
    "M = G.number_of_edges()\n",
    "edge_colors = range(2, M + 2)\n",
    "edge_alphas = [(5 + i) / (M + 4) for i in range(M)]\n",
    "\n",
    "nodes = nx.draw_networkx_nodes(G, pos, node_size=node_sizes, node_color='blue', with_labels=True)\n",
    "edges = nx.draw_networkx_edges(G, pos, node_size=node_sizes, arrowstyle='->',\n",
    "                               arrowsize=10, edge_color=edge_colors,\n",
    "                               edge_cmap=plt.cm.Blues, width=2)\n",
    "\n",
    "ax = plt.gca()\n",
    "ax.set_axis_off()\n",
    "plt.show()"
   ]
  },
  {
   "cell_type": "markdown",
   "metadata": {},
   "source": [
    "# 6.2 Zero and Identity Matrices"
   ]
  },
  {
   "cell_type": "code",
   "execution_count": 23,
   "metadata": {},
   "outputs": [
    {
     "data": {
      "text/plain": [
       "array([[0., 0.],\n",
       "       [0., 0.]])"
      ]
     },
     "execution_count": 23,
     "metadata": {},
     "output_type": "execute_result"
    }
   ],
   "source": [
    "np.zeros((2,2)) #J: zeros(2,2)"
   ]
  },
  {
   "cell_type": "code",
   "execution_count": 24,
   "metadata": {},
   "outputs": [
    {
     "data": {
      "text/plain": [
       "array([[1., 0., 0., 0.],\n",
       "       [0., 1., 0., 0.],\n",
       "       [0., 0., 1., 0.],\n",
       "       [0., 0., 0., 1.]])"
      ]
     },
     "execution_count": 24,
     "metadata": {},
     "output_type": "execute_result"
    }
   ],
   "source": [
    "A = np.identity(4)\n",
    "A"
   ]
  },
  {
   "cell_type": "code",
   "execution_count": 25,
   "metadata": {},
   "outputs": [
    {
     "data": {
      "text/plain": [
       "array([[ 1., -1.,  2.,  1.,  0.],\n",
       "       [ 0.,  3., -1.,  0.,  1.]])"
      ]
     },
     "execution_count": 25,
     "metadata": {},
     "output_type": "execute_result"
    }
   ],
   "source": [
    "A = np.array([[1,-1,2],[0,3,-1]])\n",
    "np.hstack([A, np.identity(np.shape(A)[0])]) #J: [A I]"
   ]
  },
  {
   "cell_type": "code",
   "execution_count": 26,
   "metadata": {},
   "outputs": [
    {
     "data": {
      "text/plain": [
       "array([[ 1., -1.,  2.],\n",
       "       [ 0.,  3., -1.],\n",
       "       [ 1.,  0.,  0.],\n",
       "       [ 0.,  1.,  0.],\n",
       "       [ 0.,  0.,  1.]])"
      ]
     },
     "execution_count": 26,
     "metadata": {},
     "output_type": "execute_result"
    }
   ],
   "source": [
    "A = np.array([[1,-1,2],[0,3,-1]])\n",
    "np.vstack([A,np.identity(np.shape(A)[1])]) #J: [A; I]"
   ]
  },
  {
   "cell_type": "code",
   "execution_count": 27,
   "metadata": {},
   "outputs": [
    {
     "data": {
      "text/plain": [
       "array([[2., 2.],\n",
       "       [3., 5.]])"
      ]
     },
     "execution_count": 27,
     "metadata": {},
     "output_type": "execute_result"
    }
   ],
   "source": [
    "B = np.array([[1,2],[3,4]])\n",
    "B+np.identity(np.shape(B)[0]) #J: B+I"
   ]
  },
  {
   "cell_type": "code",
   "execution_count": 28,
   "metadata": {},
   "outputs": [
    {
     "data": {
      "text/plain": [
       "array([[1, 0, 0],\n",
       "       [0, 2, 0],\n",
       "       [0, 0, 3]])"
      ]
     },
     "execution_count": 28,
     "metadata": {},
     "output_type": "execute_result"
    }
   ],
   "source": [
    "np.diag([1,2,3]) #J: diagm(0=>x)"
   ]
  },
  {
   "cell_type": "code",
   "execution_count": 29,
   "metadata": {},
   "outputs": [
    {
     "data": {
      "text/plain": [
       "array([[ 0],\n",
       "       [-1]])"
      ]
     },
     "execution_count": 29,
     "metadata": {},
     "output_type": "execute_result"
    }
   ],
   "source": [
    "H = np.matrix([[0,1,-2,1],[2,-1,3,0]])\n",
    "H\n",
    "np.vstack(np.diag(H)) #J: diag(H)"
   ]
  },
  {
   "cell_type": "code",
   "execution_count": 30,
   "metadata": {},
   "outputs": [
    {
     "data": {
      "text/plain": [
       "(array([[0.11052284, 0.31152561, 0.49893203],\n",
       "        [0.54509711, 0.60581509, 0.63897561]]),\n",
       " array([[-0.81888454,  0.51676311],\n",
       "        [-0.86370133, -0.58392722],\n",
       "        [-0.20606463, -0.32880687]]))"
      ]
     },
     "execution_count": 30,
     "metadata": {},
     "output_type": "execute_result"
    }
   ],
   "source": [
    "np.random.rand(2,3), np.random.randn(3,2) #J: rand(2,3), randn(3,2)"
   ]
  },
  {
   "cell_type": "code",
   "execution_count": 31,
   "metadata": {},
   "outputs": [],
   "source": [
    "I = np.array([1,2,2,1,3,4]) #rows\n",
    "J = np.array([1,1,2,3,3,4]) #cols\n",
    "V = np.array([-1.11,.15,-.1, 1.17, -.3,.13]) #data"
   ]
  },
  {
   "cell_type": "code",
   "execution_count": 32,
   "metadata": {},
   "outputs": [
    {
     "data": {
      "text/plain": [
       "array([[ 1.  ,  1.  , -1.11],\n",
       "       [ 2.  ,  1.  ,  0.15],\n",
       "       [ 2.  ,  2.  , -0.1 ],\n",
       "       [ 1.  ,  3.  ,  1.17],\n",
       "       [ 3.  ,  3.  , -0.3 ],\n",
       "       [ 4.  ,  4.  ,  0.13]])"
      ]
     },
     "execution_count": 32,
     "metadata": {},
     "output_type": "execute_result"
    }
   ],
   "source": [
    "from scipy.sparse import csc_matrix, rand, find\n",
    "csc_matrix([I,J,V]).toarray().transpose() #J: A = sparse(I,J,V,4,5)"
   ]
  },
  {
   "cell_type": "code",
   "execution_count": 33,
   "metadata": {},
   "outputs": [
    {
     "data": {
      "text/plain": [
       "(array([[1., 1., 1.],\n",
       "        [3., 1., 2.],\n",
       "        [2., 2., 3.],\n",
       "        [1., 3., 4.]]), 12)"
      ]
     },
     "execution_count": 33,
     "metadata": {},
     "output_type": "execute_result"
    }
   ],
   "source": [
    "A = csc_matrix([[1,3,2,1],[1,1,2,3],[1.0,2.0,3.0,4.0]]).transpose()\n",
    "A.toarray(), np.count_nonzero(A.toarray())"
   ]
  },
  {
   "cell_type": "code",
   "execution_count": 34,
   "metadata": {},
   "outputs": [],
   "source": [
    "#Not sure what's going on on page 53 final example of returning a 3x3 non-sparse matrix \n",
    "#looks like it takes the 4x1 RHS of the sparse matrix and shapes it into a 3x3"
   ]
  },
  {
   "cell_type": "code",
   "execution_count": 35,
   "metadata": {},
   "outputs": [
    {
     "data": {
      "text/plain": [
       "10"
      ]
     },
     "execution_count": 35,
     "metadata": {},
     "output_type": "execute_result"
    }
   ],
   "source": [
    "A = rand(10000,10000,density=10**-7, format='csc')\n",
    "A.nnz"
   ]
  },
  {
   "cell_type": "code",
   "execution_count": 36,
   "metadata": {},
   "outputs": [
    {
     "data": {
      "text/plain": [
       "(array([9766, 6691, 6447,   88, 5114, 2034,  531,  788, 5785, 8042],\n",
       "       dtype=int32),\n",
       " array([1416, 1515, 2162, 2334, 2632, 2851, 3595, 4026, 4062, 6622],\n",
       "       dtype=int32),\n",
       " array([0.02535819, 0.29854673, 0.80507639, 0.02392318, 0.36556313,\n",
       "        0.44434366, 0.07384048, 0.73644608, 0.95812842, 0.70699772]))"
      ]
     },
     "execution_count": 36,
     "metadata": {},
     "output_type": "execute_result"
    }
   ],
   "source": [
    "find(A)"
   ]
  },
  {
   "cell_type": "markdown",
   "metadata": {},
   "source": [
    "# 6.3 Transpose, Addition, Norm"
   ]
  },
  {
   "cell_type": "code",
   "execution_count": 37,
   "metadata": {},
   "outputs": [
    {
     "data": {
      "text/plain": [
       "array([[ 0,  1, -2,  1],\n",
       "       [ 2, -1,  3,  0]])"
      ]
     },
     "execution_count": 37,
     "metadata": {},
     "output_type": "execute_result"
    }
   ],
   "source": [
    "H = np.array([[0,1,-2,1],[2,-1,3,0]])\n",
    "H"
   ]
  },
  {
   "cell_type": "code",
   "execution_count": 38,
   "metadata": {},
   "outputs": [
    {
     "data": {
      "text/plain": [
       "array([[ 0,  2],\n",
       "       [ 1, -1],\n",
       "       [-2,  3],\n",
       "       [ 1,  0]])"
      ]
     },
     "execution_count": 38,
     "metadata": {},
     "output_type": "execute_result"
    }
   ],
   "source": [
    "H.transpose() #J : H'"
   ]
  },
  {
   "cell_type": "code",
   "execution_count": 39,
   "metadata": {},
   "outputs": [
    {
     "data": {
      "text/plain": [
       "(array([[0, 4],\n",
       "        [7, 0],\n",
       "        [3, 1]]), array([[1, 2],\n",
       "        [2, 3],\n",
       "        [0, 4]]))"
      ]
     },
     "execution_count": 39,
     "metadata": {},
     "output_type": "execute_result"
    }
   ],
   "source": [
    "U,V = np.array([[0,4],[7,0],[3,1]]),np.array([[1,2],[2,3],[0,4]])\n",
    "U, V"
   ]
  },
  {
   "cell_type": "code",
   "execution_count": 40,
   "metadata": {},
   "outputs": [
    {
     "data": {
      "text/plain": [
       "(array([[1, 6],\n",
       "        [9, 3],\n",
       "        [3, 5]]), array([[ 0. ,  8.8],\n",
       "        [15.4,  0. ],\n",
       "        [ 6.6,  2.2]]))"
      ]
     },
     "execution_count": 40,
     "metadata": {},
     "output_type": "execute_result"
    }
   ],
   "source": [
    "U+V, 2.2*U "
   ]
  },
  {
   "cell_type": "code",
   "execution_count": 41,
   "metadata": {},
   "outputs": [
    {
     "data": {
      "text/plain": [
       "(5.5677643628300215, 5.5677643628300215)"
      ]
     },
     "execution_count": 41,
     "metadata": {},
     "output_type": "execute_result"
    }
   ],
   "source": [
    "#matrix norms\n",
    "A = np.array([[2,3,-1],[0,-1,4]])\n",
    "npl.norm(A), npl.norm(A[:])"
   ]
  },
  {
   "cell_type": "code",
   "execution_count": 42,
   "metadata": {},
   "outputs": [
    {
     "data": {
      "text/plain": [
       "(4.69041575982343, 7.795831523312719)"
      ]
     },
     "execution_count": 42,
     "metadata": {},
     "output_type": "execute_result"
    }
   ],
   "source": [
    "#triangle inequality\n",
    "A,B = np.array([[-1,0],[2,2]]),np.array([[3,1],[-3,2]])\n",
    "npl.norm(A+B), npl.norm(A)+npl.norm(B)"
   ]
  },
  {
   "cell_type": "markdown",
   "metadata": {},
   "source": [
    "# 6.4 Matrix-Vector Multiplication"
   ]
  },
  {
   "cell_type": "code",
   "execution_count": 43,
   "metadata": {},
   "outputs": [
    {
     "data": {
      "text/plain": [
       "array([ 3, -4])"
      ]
     },
     "execution_count": 43,
     "metadata": {},
     "output_type": "execute_result"
    }
   ],
   "source": [
    "A,x = np.array([[0,2,-1],[-2,1,1]]), np.array([2,1,-1])\n",
    "np.matmul(A,x) #J: A*x, which in python returns a 2x3 with A values multiplied by x values"
   ]
  },
  {
   "cell_type": "code",
   "execution_count": 44,
   "metadata": {},
   "outputs": [
    {
     "data": {
      "text/plain": [
       "array([[-1.,  1.,  0.,  0.],\n",
       "       [ 0., -1.,  1.,  0.],\n",
       "       [ 0.,  0., -1.,  1.]])"
      ]
     },
     "execution_count": 44,
     "metadata": {},
     "output_type": "execute_result"
    }
   ],
   "source": [
    "#c_ is an np method for adding a column. \n",
    "#J equiv: [-eye zeros] automatically adds column wise\n",
    "difference_matrix = lambda n: np.c_[-np.identity(n-1), np.zeros(n-1)] + np.c_[np.zeros(n-1), np.eye(n-1)] \n",
    "D = difference_matrix(4)\n",
    "D"
   ]
  },
  {
   "cell_type": "code",
   "execution_count": 45,
   "metadata": {},
   "outputs": [
    {
     "data": {
      "text/plain": [
       "array([ 1.,  2., -1.])"
      ]
     },
     "execution_count": 45,
     "metadata": {},
     "output_type": "execute_result"
    }
   ],
   "source": [
    "np.matmul(D,np.array([-1,0,2,1]))"
   ]
  },
  {
   "cell_type": "code",
   "execution_count": 46,
   "metadata": {},
   "outputs": [],
   "source": [
    "#don't know what the sparse identity matrix is doing on 57"
   ]
  },
  {
   "cell_type": "code",
   "execution_count": 47,
   "metadata": {},
   "outputs": [],
   "source": [
    "#running sum\n",
    "def running_sum(n):\n",
    "    S = np.zeros((n,n))\n",
    "    for i in range(n):\n",
    "        for j in range(i+1): #0 indexing fix to get diags = 1\n",
    "            S[i,j] = 1\n",
    "            \n",
    "    return S"
   ]
  },
  {
   "cell_type": "code",
   "execution_count": 48,
   "metadata": {},
   "outputs": [
    {
     "data": {
      "text/plain": [
       "(array([[1., 0., 0., 0.],\n",
       "        [1., 1., 0., 0.],\n",
       "        [1., 1., 1., 0.],\n",
       "        [1., 1., 1., 1.]]), array([-1.,  0.,  2.,  2.]))"
      ]
     },
     "execution_count": 48,
     "metadata": {},
     "output_type": "execute_result"
    }
   ],
   "source": [
    "running_sum(4),np.matmul(running_sum(4),np.array([-1,1,2,0]))"
   ]
  },
  {
   "cell_type": "code",
   "execution_count": 49,
   "metadata": {},
   "outputs": [
    {
     "data": {
      "text/plain": [
       "(array([[1., 0., 0., 0.],\n",
       "        [1., 1., 0., 0.],\n",
       "        [1., 1., 1., 0.],\n",
       "        [1., 1., 1., 1.]]), [1.0, 2.0, 3.0, 4.0])"
      ]
     },
     "execution_count": 49,
     "metadata": {},
     "output_type": "execute_result"
    }
   ],
   "source": [
    "#tril implementation #J: tril(ones(n,n))\n",
    "#also running sum test\n",
    "sum_test_list = np.tril(np.ones((4,4)))\n",
    "np.tril(np.ones((4,4))), [np.sum(i) for i in sum_test_list]"
   ]
  },
  {
   "cell_type": "code",
   "execution_count": 50,
   "metadata": {},
   "outputs": [
    {
     "data": {
      "text/plain": [
       "array([[ 1.    , -1.    ,  1.    , -1.    ,  1.    ],\n",
       "       [ 0.    ,  0.    ,  0.    ,  0.    ,  1.    ],\n",
       "       [ 0.0625,  0.125 ,  0.25  ,  0.5   ,  1.    ],\n",
       "       [ 1.    ,  1.    ,  1.    ,  1.    ,  1.    ]])"
      ]
     },
     "execution_count": 50,
     "metadata": {},
     "output_type": "execute_result"
    }
   ],
   "source": [
    "np.vander([-1,-0,0.5,1],5) #col-wise reverse to vander in Julia?"
   ]
  },
  {
   "cell_type": "code",
   "execution_count": 51,
   "metadata": {},
   "outputs": [
    {
     "data": {
      "text/plain": [
       "array([[ 1.    , -1.    ,  1.    , -1.    ,  1.    ],\n",
       "       [ 1.    ,  0.    ,  0.    ,  0.    ,  0.    ],\n",
       "       [ 1.    ,  0.5   ,  0.25  ,  0.125 ,  0.0625],\n",
       "       [ 1.    ,  1.    ,  1.    ,  1.    ,  1.    ]])"
      ]
     },
     "execution_count": 51,
     "metadata": {},
     "output_type": "execute_result"
    }
   ],
   "source": [
    "#credits wolfram:\n",
    "#Vandermonde matrices are:\n",
    "#\"a type of matrix that arises in the polynomial least squares fitting, \n",
    "#Lagrange interpolating polynomials (Hoffman and Kunze p. 114), \n",
    "#and the reconstruction of a statistical distribution from the \n",
    "#distribution's moments [mean, variance, skewness, kurtosis (sharpness)]\"\n",
    "def vander(t,n):\n",
    "    m = len(t)\n",
    "    V = np.zeros((m,n))\n",
    "    for i in range(m):\n",
    "        for j in range(n):\n",
    "            V[i,j] = t[i]**(j)\n",
    "    return V\n",
    "\n",
    "#ie: \n",
    "# vander = lambda t,n : np.matrix([[i**(j) for i in t] for j in range(n)]).transpose()\n",
    "#or\n",
    "# vander = lambda t,n : np.vstack([np.array(t)**i for i in range(n)]).transpose()\n",
    "vander([-1,-0,0.5,1],5)"
   ]
  },
  {
   "cell_type": "markdown",
   "metadata": {},
   "source": [
    "# 6.5 Complexity"
   ]
  },
  {
   "cell_type": "code",
   "execution_count": 52,
   "metadata": {},
   "outputs": [
    {
     "name": "stdout",
     "output_type": "stream",
     "text": [
      "4.92 ms ± 823 µs per loop (mean ± std. dev. of 7 runs, 100 loops each)\n"
     ]
    }
   ],
   "source": [
    "A,x = np.random.rand(1000,10000), np.random.rand(10000)\n",
    "%timeit y=np.matmul(A,x)"
   ]
  },
  {
   "cell_type": "code",
   "execution_count": 53,
   "metadata": {},
   "outputs": [
    {
     "name": "stdout",
     "output_type": "stream",
     "text": [
      "3.58 ms ± 1.02 ms per loop (mean ± std. dev. of 7 runs, 100 loops each)\n"
     ]
    }
   ],
   "source": [
    "%timeit y=np.matmul(A,x)"
   ]
  },
  {
   "cell_type": "code",
   "execution_count": 54,
   "metadata": {},
   "outputs": [
    {
     "name": "stdout",
     "output_type": "stream",
     "text": [
      "34.9 ms ± 2.53 ms per loop (mean ± std. dev. of 7 runs, 10 loops each)\n"
     ]
    }
   ],
   "source": [
    "A,x = np.random.rand(5000,20000), np.random.rand(20000)\n",
    "%timeit y=np.matmul(A,x)"
   ]
  },
  {
   "cell_type": "code",
   "execution_count": 55,
   "metadata": {},
   "outputs": [
    {
     "name": "stdout",
     "output_type": "stream",
     "text": [
      "34.4 ms ± 4.42 ms per loop (mean ± std. dev. of 7 runs, 10 loops each)\n"
     ]
    }
   ],
   "source": [
    "%timeit y=np.matmul(A,x)"
   ]
  },
  {
   "cell_type": "markdown",
   "metadata": {},
   "source": [
    "#### Complexity of multiplying m x n matrix with an n vector is linear with both m and n, we see a factor of 10 time increase given a factor of of 5 and 2 for m and n increasing"
   ]
  }
 ],
 "metadata": {
  "kernelspec": {
   "display_name": "Python 3",
   "language": "python",
   "name": "python3"
  },
  "language_info": {
   "codemirror_mode": {
    "name": "ipython",
    "version": 3
   },
   "file_extension": ".py",
   "mimetype": "text/x-python",
   "name": "python",
   "nbconvert_exporter": "python",
   "pygments_lexer": "ipython3",
   "version": "3.6.7"
  }
 },
 "nbformat": 4,
 "nbformat_minor": 4
}
