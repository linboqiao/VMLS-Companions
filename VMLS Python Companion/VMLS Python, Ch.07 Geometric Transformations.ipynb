{
 "cells": [
  {
   "cell_type": "code",
   "execution_count": 1,
   "metadata": {},
   "outputs": [],
   "source": [
    "import numpy as np\n",
    "import numpy.linalg as npl\n",
    "import math\n",
    "import matplotlib.pyplot as plt"
   ]
  },
  {
   "cell_type": "markdown",
   "metadata": {},
   "source": [
    "# 7.1 Geometric Transformations"
   ]
  },
  {
   "cell_type": "code",
   "execution_count": 2,
   "metadata": {},
   "outputs": [
    {
     "data": {
      "text/plain": [
       "array([[ 0.5      , -0.8660254],\n",
       "       [ 0.8660254,  0.5      ]])"
      ]
     },
     "execution_count": 2,
     "metadata": {},
     "output_type": "execute_result"
    }
   ],
   "source": [
    "#a rotation matrix:\n",
    "Rotation = lambda angle:np.array([[np.cos(angle), -np.sin(angle)],[np.sin(angle),np.cos(angle)]])\n",
    "r60 = Rotation(np.pi/3)\n",
    "r60"
   ]
  },
  {
   "cell_type": "code",
   "execution_count": 3,
   "metadata": {},
   "outputs": [
    {
     "data": {
      "text/plain": [
       "array([[0.5       , 0.8660254 ],\n",
       "       [0.75      , 1.29903811],\n",
       "       [1.        , 1.73205081],\n",
       "       [0.28349365, 0.9910254 ],\n",
       "       [0.53349365, 1.42403811],\n",
       "       [0.0669873 , 1.1160254 ]])"
      ]
     },
     "execution_count": 3,
     "metadata": {},
     "output_type": "execute_result"
    }
   ],
   "source": [
    "#some list of 2d points:\n",
    "pts = np.array([[1,0],[1.5,0],[2,0],[1,.25],[1.5,.25],[1,.5]])\n",
    "r60pts = np.vstack([np.matmul(r60,p) for p in pts])\n",
    "r60pts"
   ]
  },
  {
   "cell_type": "code",
   "execution_count": 4,
   "metadata": {
    "scrolled": true
   },
   "outputs": [
    {
     "data": {
      "text/plain": [
       "<matplotlib.collections.PathCollection at 0x7f3f6fb99128>"
      ]
     },
     "execution_count": 4,
     "metadata": {},
     "output_type": "execute_result"
    },
    {
     "data": {
      "image/png": "[encoded data removed]",
      "text/plain": [
       "<Figure size 432x288 with 1 Axes>"
      ]
     },
     "metadata": {
      "needs_background": "light"
     },
     "output_type": "display_data"
    }
   ],
   "source": [
    "plt.scatter([pts[i][0] for i in range(len(pts))],[pts[i][1] for i in range(len(pts))])\n",
    "plt.scatter([r60pts[i][0] for i in range(len(pts))],[r60pts[i][1] for i in range(len(pts))])"
   ]
  },
  {
   "cell_type": "code",
   "execution_count": 5,
   "metadata": {},
   "outputs": [],
   "source": [
    "#a reflection matrix\n",
    "Reflection = lambda angle:np.array([[np.cos(2*angle),np.sin(2*angle)],[np.sin(2*angle),-np.cos(2*angle)]])\n",
    "reflect60 = Reflection(np.pi/3)\n",
    "ref60pts = np.vstack([np.matmul(reflect60,p) for p in pts])"
   ]
  },
  {
   "cell_type": "code",
   "execution_count": 6,
   "metadata": {},
   "outputs": [
    {
     "data": {
      "text/plain": [
       "<matplotlib.collections.PathCollection at 0x7f3f6fab2630>"
      ]
     },
     "execution_count": 6,
     "metadata": {},
     "output_type": "execute_result"
    },
    {
     "data": {
      "image/png": "[encoded data removed]",
      "text/plain": [
       "<Figure size 432x288 with 1 Axes>"
      ]
     },
     "metadata": {
      "needs_background": "light"
     },
     "output_type": "display_data"
    }
   ],
   "source": [
    "plt.scatter([pts[i][0] for i in range(len(pts))],[pts[i][1] for i in range(len(pts))])\n",
    "plt.scatter([ref60pts[i][0] for i in range(len(pts))],[ref60pts[i][1] for i in range(len(pts))])"
   ]
  },
  {
   "cell_type": "markdown",
   "metadata": {},
   "source": [
    "# 7.2 Selectors"
   ]
  },
  {
   "cell_type": "code",
   "execution_count": 7,
   "metadata": {},
   "outputs": [
    {
     "data": {
      "text/plain": [
       "array([[0., 0., 0., 0., 1.],\n",
       "       [0., 0., 0., 1., 0.],\n",
       "       [0., 0., 1., 0., 0.],\n",
       "       [0., 1., 0., 0., 0.],\n",
       "       [1., 0., 0., 0., 0.]])"
      ]
     },
     "execution_count": 7,
     "metadata": {},
     "output_type": "execute_result"
    }
   ],
   "source": [
    "flipper = lambda n: np.flip(np.eye(5),1) #J: reverse(eye(n), dims=1)\n",
    "A = flipper(5)\n",
    "A"
   ]
  },
  {
   "cell_type": "code",
   "execution_count": 8,
   "metadata": {},
   "outputs": [
    {
     "data": {
      "text/plain": [
       "(array([1., 2., 3., 4., 5.]), array([5., 4., 3., 2., 1.]))"
      ]
     },
     "execution_count": 8,
     "metadata": {},
     "output_type": "execute_result"
    }
   ],
   "source": [
    "#reverse order of x with reverser (flipper) matrix\n",
    "x = np.array([1.,2.,3.,4.,5.])\n",
    "x, np.matmul(A,x)"
   ]
  },
  {
   "cell_type": "code",
   "execution_count": 9,
   "metadata": {},
   "outputs": [
    {
     "data": {
      "text/plain": [
       "array([5., 4., 3., 2., 1.])"
      ]
     },
     "execution_count": 9,
     "metadata": {},
     "output_type": "execute_result"
    }
   ],
   "source": [
    "#can also just flip x directly:\n",
    "np.flip(x)"
   ]
  },
  {
   "cell_type": "code",
   "execution_count": 10,
   "metadata": {},
   "outputs": [
    {
     "data": {
      "text/plain": [
       "(matrix([[0, 0, 1],\n",
       "         [1, 0, 0],\n",
       "         [0, 1, 0]]), array([ 0.2, -1.7,  2.4]))"
      ]
     },
     "execution_count": 10,
     "metadata": {},
     "output_type": "execute_result"
    }
   ],
   "source": [
    "A,x = np.matrix([[0,0,1],[1,0,0],[0,1,0]]), np.array([.2,-1.7,2.4])\n",
    "A,x"
   ]
  },
  {
   "cell_type": "code",
   "execution_count": 11,
   "metadata": {},
   "outputs": [
    {
     "data": {
      "text/plain": [
       "matrix([[ 2.4,  0.2, -1.7]])"
      ]
     },
     "execution_count": 11,
     "metadata": {},
     "output_type": "execute_result"
    }
   ],
   "source": [
    "np.matmul(A,x) #permutations of x"
   ]
  },
  {
   "cell_type": "code",
   "execution_count": 12,
   "metadata": {},
   "outputs": [
    {
     "data": {
      "text/plain": [
       "array([ 2.4,  0.2, -1.7])"
      ]
     },
     "execution_count": 12,
     "metadata": {},
     "output_type": "execute_result"
    }
   ],
   "source": [
    "x[[2,0,1]]"
   ]
  },
  {
   "cell_type": "markdown",
   "metadata": {},
   "source": [
    "# 7.3 Incidence Matrix"
   ]
  },
  {
   "cell_type": "code",
   "execution_count": 13,
   "metadata": {},
   "outputs": [],
   "source": [
    "# Flow in an incidence matrix\n",
    "A = np.matrix([[-1,-1,0,1,0],[1,0,-1,0,0],[0,0,1,-1,-1],[0,1,0,0,1]])"
   ]
  },
  {
   "cell_type": "code",
   "execution_count": 14,
   "metadata": {},
   "outputs": [
    {
     "data": {
      "text/plain": [
       "matrix([[0, 0, 0, 0]])"
      ]
     },
     "execution_count": 14,
     "metadata": {},
     "output_type": "execute_result"
    }
   ],
   "source": [
    "xcirc = np.array([1,-1,1,0,1])\n",
    "np.matmul(A,xcirc)"
   ]
  },
  {
   "cell_type": "code",
   "execution_count": 15,
   "metadata": {},
   "outputs": [
    {
     "data": {
      "text/plain": [
       "matrix([[0., 0., 0., 0.]])"
      ]
     },
     "execution_count": 15,
     "metadata": {},
     "output_type": "execute_result"
    }
   ],
   "source": [
    "s = np.array([1,0,-1,0])\n",
    "x = np.array([.6,.3,.6,-.1,-.3])\n",
    "np.matmul(A,x)+s "
   ]
  },
  {
   "cell_type": "code",
   "execution_count": 16,
   "metadata": {},
   "outputs": [
    {
     "data": {
      "text/plain": [
       "matrix([[-1, -1,  0,  1,  0],\n",
       "        [ 1,  0, -1,  0,  0],\n",
       "        [ 0,  0,  1, -1, -1],\n",
       "        [ 0,  1,  0,  0,  1]])"
      ]
     },
     "execution_count": 16,
     "metadata": {},
     "output_type": "execute_result"
    }
   ],
   "source": [
    "#Dirichlet energy is a measure of how variable a function is\n",
    "A"
   ]
  },
  {
   "cell_type": "code",
   "execution_count": 17,
   "metadata": {},
   "outputs": [
    {
     "data": {
      "text/plain": [
       "array([1, 2, 2, 1])"
      ]
     },
     "execution_count": 17,
     "metadata": {},
     "output_type": "execute_result"
    }
   ],
   "source": [
    "vsmooth = np.array([1,2,2,1])\n",
    "vsmooth"
   ]
  },
  {
   "cell_type": "code",
   "execution_count": 18,
   "metadata": {},
   "outputs": [
    {
     "data": {
      "text/plain": [
       "array([ 3, -4])"
      ]
     },
     "execution_count": 18,
     "metadata": {},
     "output_type": "execute_result"
    }
   ],
   "source": [
    "#Reminder on matrix vector mult:\n",
    "A = np.array([[0,2,-1],[-2,1,1]])\n",
    "x = np.array([2,1,-1])\n",
    "np.matmul(A,x)"
   ]
  },
  {
   "cell_type": "code",
   "execution_count": 19,
   "metadata": {},
   "outputs": [
    {
     "data": {
      "text/plain": [
       "2.9999999999999996"
      ]
     },
     "execution_count": 19,
     "metadata": {},
     "output_type": "execute_result"
    }
   ],
   "source": [
    "A = np.array([[-1,-1,0,1,0],[1,0,-1,0,0],[0,0,1,-1,-1],[0,1,0,0,1]]).transpose()\n",
    "#Note: A needs to be transposed because Julia automatically \n",
    "#calculates column wise based on dimension of vsmooth and A\n",
    "vsmooth = np.array([1,2,2,1])\n",
    "npl.norm(np.matmul(A,vsmooth))**2 #J: norm(A'*vsmooth)^2"
   ]
  },
  {
   "cell_type": "code",
   "execution_count": 20,
   "metadata": {},
   "outputs": [
    {
     "data": {
      "text/plain": [
       "27.0"
      ]
     },
     "execution_count": 20,
     "metadata": {},
     "output_type": "execute_result"
    }
   ],
   "source": [
    "vrough = np.array([1,-1,2,-1])\n",
    "npl.norm(np.matmul(A,vrough))**2 "
   ]
  },
  {
   "cell_type": "markdown",
   "metadata": {},
   "source": [
    "# 7.4 Convolution"
   ]
  },
  {
   "cell_type": "markdown",
   "metadata": {},
   "source": [
    "Convolution is applying one function to another and getting a third function that describes how the application of the second function affected the initial function."
   ]
  },
  {
   "cell_type": "code",
   "execution_count": 21,
   "metadata": {},
   "outputs": [
    {
     "data": {
      "text/plain": [
       "array([ 2,  3, -3, -1,  1, -2])"
      ]
     },
     "execution_count": 21,
     "metadata": {},
     "output_type": "execute_result"
    }
   ],
   "source": [
    "a,b,c = np.array([1,1]),np.array([2,-1,1]),np.array([1,1,-2])\n",
    "d = np.convolve(np.convolve(a,b),c)\n",
    "d"
   ]
  },
  {
   "cell_type": "code",
   "execution_count": 22,
   "metadata": {},
   "outputs": [
    {
     "data": {
      "text/plain": [
       "array([[-1.,  0.,  0.,  0.],\n",
       "       [ 2., -1.,  0.,  0.],\n",
       "       [ 3.,  2., -1.,  0.],\n",
       "       [ 0.,  3.,  2., -1.],\n",
       "       [ 0.,  0.,  3.,  2.],\n",
       "       [ 0.,  0.,  0.,  3.]])"
      ]
     },
     "execution_count": 22,
     "metadata": {},
     "output_type": "execute_result"
    }
   ],
   "source": [
    "#a matrix can be convolved into toeplitz form \n",
    "#by holding diagonals constant\n",
    "def toeplitz(b,n):\n",
    "    m = len(b)\n",
    "    T = np.zeros((n+m-1,n))\n",
    "    for i in range(m):\n",
    "        for j in range(len(T[i])):\n",
    "            T[j+i][j]=b[i]\n",
    "            #J: T[i:n+m:end] .= b[i]\n",
    "            #there probably exists a more elegant implementation\n",
    "    return T\n",
    "b,a = np.array([-1,2,3]), np.array([-2,3,-1,1])\n",
    "Tb = toeplitz(b,len(a))\n",
    "Tb"
   ]
  },
  {
   "cell_type": "code",
   "execution_count": 23,
   "metadata": {},
   "outputs": [
    {
     "data": {
      "text/plain": [
       "(array([ 2., -7.,  1.,  6., -1.,  3.]), array([ 2, -7,  1,  6, -1,  3]))"
      ]
     },
     "execution_count": 23,
     "metadata": {},
     "output_type": "execute_result"
    }
   ],
   "source": [
    "np.matmul(Tb,a), np.convolve(b,a)"
   ]
  },
  {
   "cell_type": "code",
   "execution_count": 24,
   "metadata": {},
   "outputs": [],
   "source": [
    "m,n = 2000,2000\n",
    "b,a = np.random.randn(n), np.random.randn(m)\n",
    "toep = toeplitz(b,n)*a\n",
    "conv = np.convolve(a,b)"
   ]
  },
  {
   "cell_type": "code",
   "execution_count": 25,
   "metadata": {},
   "outputs": [
    {
     "name": "stdout",
     "output_type": "stream",
     "text": [
      "1.02 s ± 15.5 ms per loop (mean ± std. dev. of 7 runs, 1 loop each)\n"
     ]
    }
   ],
   "source": [
    "%timeit toep = toeplitz(b,n)*a"
   ]
  },
  {
   "cell_type": "code",
   "execution_count": 26,
   "metadata": {},
   "outputs": [
    {
     "name": "stdout",
     "output_type": "stream",
     "text": [
      "456 µs ± 11.8 µs per loop (mean ± std. dev. of 7 runs, 1000 loops each)\n"
     ]
    }
   ],
   "source": [
    "%timeit conv = np.convolve(a,b)"
   ]
  }
 ],
 "metadata": {
  "kernelspec": {
   "display_name": "Python 3",
   "language": "python",
   "name": "python3"
  },
  "language_info": {
   "codemirror_mode": {
    "name": "ipython",
    "version": 3
   },
   "file_extension": ".py",
   "mimetype": "text/x-python",
   "name": "python",
   "nbconvert_exporter": "python",
   "pygments_lexer": "ipython3",
   "version": "3.6.7"
  }
 },
 "nbformat": 4,
 "nbformat_minor": 4
}
