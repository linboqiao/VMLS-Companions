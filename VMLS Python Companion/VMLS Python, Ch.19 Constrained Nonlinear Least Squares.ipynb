{
 "cells": [
  {
   "cell_type": "code",
   "execution_count": 1,
   "metadata": {},
   "outputs": [],
   "source": [
    "import numpy as np\n",
    "import numpy.linalg as npl\n",
    "import scipy.linalg as spl\n",
    "import sklearn.metrics as sklm\n",
    "import math\n",
    "import matplotlib.pyplot as plt\n",
    "import pandas as pd #to help see arrays clearly when debugging \n",
    "plt.rcParams['figure.figsize'] = [9,9]\n",
    "from IPython.core.interactiveshell import InteractiveShell\n",
    "InteractiveShell.ast_node_interactivity = \"all\""
   ]
  },
  {
   "cell_type": "code",
   "execution_count": 2,
   "metadata": {},
   "outputs": [],
   "source": [
    "def levenberg_marquardt(f, Df, x1, lambda1, kmax = 100, tol = 1e-6):\n",
    "    n = len(x1)\n",
    "    x = x1\n",
    "    lambd = lambda1\n",
    "    objectives = [] \n",
    "    residuals = []\n",
    "    for k in range(kmax):\n",
    "        fk = f(x)\n",
    "        Dfk = Df(x)\n",
    "        objectives.append(npl.norm(fk)**2)\n",
    "        residuals.append(npl.norm(2*np.matmul(Dfk.T,fk)))\n",
    "        if npl.norm(2*np.matmul(Dfk.T,fk)) < tol:\n",
    "            break\n",
    "        xt = x - npl.lstsq(np.vstack([Dfk,np.sqrt(lambd)*np.eye(n)]),np.vstack([fk,np.zeros((n,1))]))[0].ravel()\n",
    "        if npl.norm(f(xt)) < npl.norm(fk):\n",
    "            lambd = .8*lambd\n",
    "            x = xt\n",
    "        else:\n",
    "            lambd = 2.0*lambd\n",
    "    return x, dict([(\"objectives\", objectives),(\"residuals\",residuals)])"
   ]
  },
  {
   "cell_type": "markdown",
   "metadata": {},
   "source": [
    "# 19.1,2 Constrained Nonlinear Least Squares, Penalty Algorithm"
   ]
  },
  {
   "cell_type": "markdown",
   "metadata": {},
   "source": [
    "\"Let's implement the penalty algorithm (algorithm 19.1 in VMLS).\""
   ]
  },
  {
   "cell_type": "code",
   "execution_count": 3,
   "metadata": {},
   "outputs": [],
   "source": [
    "def penalty_method(f, Df, g, Dg, x1, lambda1, kmax = 100, feas_tol = 1e-4, oc_tol = 1e-4):\n",
    "    x = x1\n",
    "    mu = 1.0\n",
    "    feas_res = np.array([npl.norm(g(x))])\n",
    "    oc_res = np.array([npl.norm(np.array(2*Df(x).T@f(x)).ravel() + 2 * mu * np.vstack(Dg(x))@g(x))])\n",
    "    lm_iters = []  \n",
    "    F = lambda x: np.vstack([f(x),np.sqrt(mu)*g(x)])\n",
    "    DF = lambda x: np.vstack([Df(x), np.sqrt(mu)*Dg(x)])\n",
    "    for k in range(kmax):\n",
    "        x,hist = levenberg_marquardt(F,DF,x,lambda1,tol=oc_tol)\n",
    "        feas_res = np.vstack([feas_res,npl.norm(g(x))])\n",
    "        oc_res = np.vstack([oc_res,np.array(hist[\"residuals\"])[-1]])\n",
    "        lm_iters.append(len(hist[\"residuals\"])) \n",
    "        if npl.norm(g(x)) < feas_tol:\n",
    "            break\n",
    "        mu = 2*mu    \n",
    "    return x,dict([(\"lm_iterations\", lm_iters), (\"feas_res\", feas_res),(\"oc_res\", oc_res)])"
   ]
  },
  {
   "cell_type": "markdown",
   "metadata": {},
   "source": [
    "On line $11$ we call the function `levenberg_marquardt` of the previous chapter to minimize $‖F(x)‖^2$ where\n",
    "\n",
    "$$\n",
    "F (x) =\n",
    "\\begin{bmatrix}\n",
    "f(x)\\\\\n",
    "\\sqrt{µ}g(x)\n",
    "\\end{bmatrix}\n",
    ".\n",
    "$$\n",
    "\n",
    "We evaluate two residuals. The “feasibility” residual $‖g(x(k))‖$ is the error in the constraint $g(x) = 0$. The “optimality condition” residual is defined as\n",
    "\n",
    "$$\n",
    "‖2Df(x^{(k)})^T f(x^{(k)}) + 2Dg(x^{(k)})^T z^{(k)}‖\n",
    "$$\n",
    "\n",
    "where $z(k) = 2µ(k−1)g(x(k))$ (and we take $µ(0) = µ(1)$). On line $13$, we obtain the optimality condition residual as the last residual in the Levenberg–Marquardt method. On line $20$ we return the final $x$, and a dictionary containing the two sequences of residuals and the number of iterations used in each call to the Levenberg–Marquardt algorithm.\n",
    "\n",
    "**Example.** We apply the method to a problem with two variables\n",
    "\n",
    "$$\n",
    "f(x_1, x_2) =\n",
    "\\begin{bmatrix}\n",
    "x_1 + exp(−x_2) \\\\\n",
    "x^2_1 + 2x_2 + 1\n",
    "\\end{bmatrix}\n",
    ", \n",
    "g(x_1, x_2) = x^2_1 + x^3_1 + x_2 + x^2_2.\n",
    "$$\n"
   ]
  },
  {
   "cell_type": "code",
   "execution_count": 4,
   "metadata": {},
   "outputs": [
    {
     "name": "stderr",
     "output_type": "stream",
     "text": [
      "/home/linbo/anaconda3/envs/nlu/lib/python3.6/site-packages/ipykernel_launcher.py:14: FutureWarning: `rcond` parameter will change to the default of machine precision times ``max(M, N)`` where M and N are the input matrix dimensions.\n",
      "To use the future default and silence this warning we advise to pass `rcond=None`, to keep using the old, explicitly pass `rcond=-1`.\n",
      "  \n"
     ]
    },
    {
     "data": {
      "text/plain": [
       "array([-3.33495514e-05, -2.76824972e-05])"
      ]
     },
     "execution_count": 4,
     "metadata": {},
     "output_type": "execute_result"
    }
   ],
   "source": [
    "f = lambda x: np.vstack([x[0] + np.exp(-x[1]), x[0]**2 + 2*x[1]+1])\n",
    "Df = lambda x: np.vstack([[1.0, -np.exp(-x[1])], [2*x[0], 2]])\n",
    "g = lambda x: np.array([x[0] + x[0]**3 + x[1] + x[1]**2])\n",
    "Dg = lambda x: np.hstack([1 + 3*x[0]**2, 1 + 2*x[1]])\n",
    "x,hist = penalty_method(f,Df,g,Dg,[0.5,-0.5],1.0)\n",
    "x"
   ]
  },
  {
   "cell_type": "code",
   "execution_count": 5,
   "metadata": {},
   "outputs": [
    {
     "data": {
      "text/plain": [
       "[<matplotlib.lines.Line2D at 0x7fa5f2b75978>]"
      ]
     },
     "execution_count": 5,
     "metadata": {},
     "output_type": "execute_result"
    },
    {
     "data": {
      "text/plain": [
       "[<matplotlib.lines.Line2D at 0x7fa5f2b9e320>]"
      ]
     },
     "execution_count": 5,
     "metadata": {},
     "output_type": "execute_result"
    },
    {
     "data": {
      "text/plain": [
       "Text(0.5, 0, 'Cumulative Levenberg--Marquardt iterations')"
      ]
     },
     "execution_count": 5,
     "metadata": {},
     "output_type": "execute_result"
    },
    {
     "data": {
      "text/plain": [
       "Text(0, 0.5, 'Residual')"
      ]
     },
     "execution_count": 5,
     "metadata": {},
     "output_type": "execute_result"
    },
    {
     "data": {
      "text/plain": [
       "<matplotlib.legend.Legend at 0x7fa5f2bc2710>"
      ]
     },
     "execution_count": 5,
     "metadata": {},
     "output_type": "execute_result"
    },
    {
     "data": {
      "image/png": "[encoded data removed]",
      "text/plain": [
       "<Figure size 432x288 with 1 Axes>"
      ]
     },
     "metadata": {
      "needs_background": "light"
     },
     "output_type": "display_data"
    }
   ],
   "source": [
    "cum_lm_iters = np.cumsum(hist[\"lm_iterations\"], axis=0)\n",
    "itr = np.vstack([np.zeros(1),np.vstack(np.array([[i,i] for i in cum_lm_iters]).flatten())])\n",
    "feas_res = np.vstack([np.vstack(np.array([[r,r] for r in hist[\"feas_res\"][0:len(hist[\"feas_res\"])-1]]).ravel()),hist[\"feas_res\"][len(hist[\"feas_res\"])-1]])\n",
    "oc_res = np.vstack([np.vstack(np.array([[r,r] for r in hist[\"oc_res\"][0:len(hist[\"oc_res\"])-1]]).ravel()),hist[\"oc_res\"][len(hist[\"oc_res\"])-1]])\n",
    "plt.plot(itr,feas_res)\n",
    "plt.plot(itr,oc_res)\n",
    "plt.yscale(\"log\")\n",
    "plt.xlabel(\"Cumulative Levenberg--Marquardt iterations\")\n",
    "plt.ylabel(\"Residual\")\n",
    "plt.legend([\"Feasibility\", \"Optimal cond.\"])"
   ]
  },
  {
   "cell_type": "markdown",
   "metadata": {},
   "source": [
    "# 19.3 Augmented Lagrangian Algorithm"
   ]
  },
  {
   "cell_type": "code",
   "execution_count": 6,
   "metadata": {},
   "outputs": [],
   "source": [
    "def aug_lag_method(f,Df,g,Dg,x1,lambda1, kmax = 100, feas_tol = 1e-4, oc_tol = 1e-4):\n",
    "    x = x1\n",
    "    z = np.zeros(len(g(x)))\n",
    "    mu = 1.0\n",
    "    feas_res = np.array([npl.norm(g(x))])\n",
    "    oc_res = np.array([npl.norm(np.array(2*Df(x).T@f(x)).ravel() + 2 * mu * np.vstack(Dg(x))@z)])\n",
    "    lm_iters = []  \n",
    "    F = lambda x: np.vstack([f(x),np.sqrt(mu)*g(x) + z/(2*mu)])\n",
    "    DF = lambda x: np.vstack([Df(x), np.sqrt(mu)*Dg(x)])\n",
    "    for k in range(kmax):\n",
    "        x,hist = levenberg_marquardt(F,DF,x,lambda1,tol=oc_tol)\n",
    "        z = z+2*mu*g(x)\n",
    "        feas_res = np.vstack([feas_res,npl.norm(g(x))])\n",
    "        oc_res = np.vstack([oc_res,np.array(hist[\"residuals\"])[-1]])\n",
    "        lm_iters.append(len(hist[\"residuals\"])) \n",
    "        if npl.norm(g(x)) < feas_tol:\n",
    "            break\n",
    "        mu = mu if (npl.norm(g(x))<.25*feas_res[len(feas_res)-2]) else 2*mu \n",
    "    return x,z,dict([(\"lm_iterations\", lm_iters), (\"feas_res\", feas_res),(\"oc_res\", oc_res)])"
   ]
  },
  {
   "cell_type": "code",
   "execution_count": 7,
   "metadata": {},
   "outputs": [
    {
     "name": "stderr",
     "output_type": "stream",
     "text": [
      "/home/linbo/anaconda3/envs/nlu/lib/python3.6/site-packages/ipykernel_launcher.py:14: FutureWarning: `rcond` parameter will change to the default of machine precision times ``max(M, N)`` where M and N are the input matrix dimensions.\n",
      "To use the future default and silence this warning we advise to pass `rcond=None`, to keep using the old, explicitly pass `rcond=-1`.\n",
      "  \n"
     ]
    },
    {
     "data": {
      "text/plain": [
       "array([-3.09848096e-05, -2.56792929e-05])"
      ]
     },
     "execution_count": 7,
     "metadata": {},
     "output_type": "execute_result"
    },
    {
     "data": {
      "text/plain": [
       "array([-20.17787239])"
      ]
     },
     "execution_count": 7,
     "metadata": {},
     "output_type": "execute_result"
    }
   ],
   "source": [
    "x,z,hist = aug_lag_method(f,Df,g,Dg,[0.5,-0.5],1.0)\n",
    "x\n",
    "z"
   ]
  },
  {
   "cell_type": "code",
   "execution_count": 8,
   "metadata": {},
   "outputs": [
    {
     "data": {
      "text/plain": [
       "[<matplotlib.lines.Line2D at 0x7fa5ed0e1320>]"
      ]
     },
     "execution_count": 8,
     "metadata": {},
     "output_type": "execute_result"
    },
    {
     "data": {
      "text/plain": [
       "[<matplotlib.lines.Line2D at 0x7fa5ed15dcc0>]"
      ]
     },
     "execution_count": 8,
     "metadata": {},
     "output_type": "execute_result"
    },
    {
     "data": {
      "text/plain": [
       "Text(0.5, 0, 'Augmented Lagrangian Algorithm')"
      ]
     },
     "execution_count": 8,
     "metadata": {},
     "output_type": "execute_result"
    },
    {
     "data": {
      "text/plain": [
       "Text(0, 0.5, 'Residual')"
      ]
     },
     "execution_count": 8,
     "metadata": {},
     "output_type": "execute_result"
    },
    {
     "data": {
      "text/plain": [
       "<matplotlib.legend.Legend at 0x7fa5ed127b38>"
      ]
     },
     "execution_count": 8,
     "metadata": {},
     "output_type": "execute_result"
    },
    {
     "data": {
      "image/png": "[encoded data removed]",
      "text/plain": [
       "<Figure size 432x288 with 1 Axes>"
      ]
     },
     "metadata": {
      "needs_background": "light"
     },
     "output_type": "display_data"
    }
   ],
   "source": [
    "cum_lm_iters = np.cumsum(hist[\"lm_iterations\"], axis=0)\n",
    "itr = np.vstack([np.zeros(1),np.vstack(np.array([[i,i] for i in cum_lm_iters]).flatten())])\n",
    "feas_res = np.vstack([np.vstack(np.array([[r,r] for r in hist[\"feas_res\"][0:len(hist[\"feas_res\"])-1]]).ravel()),hist[\"feas_res\"][len(hist[\"feas_res\"])-1]])\n",
    "oc_res = np.vstack([np.vstack(np.array([[r,r] for r in hist[\"oc_res\"][0:len(hist[\"oc_res\"])-1]]).ravel()),hist[\"oc_res\"][len(hist[\"oc_res\"])-1]])\n",
    "plt.plot(itr,feas_res)\n",
    "plt.plot(itr,oc_res)\n",
    "plt.yscale(\"log\")\n",
    "plt.xlabel(\"Augmented Lagrangian Algorithm\")\n",
    "plt.ylabel(\"Residual\")\n",
    "plt.legend([\"Feasibility\", \"Optimal cond.\"])"
   ]
  },
  {
   "cell_type": "code",
   "execution_count": null,
   "metadata": {},
   "outputs": [],
   "source": []
  },
  {
   "cell_type": "code",
   "execution_count": null,
   "metadata": {},
   "outputs": [],
   "source": []
  }
 ],
 "metadata": {
  "kernelspec": {
   "display_name": "Python 3",
   "language": "python",
   "name": "python3"
  },
  "language_info": {
   "codemirror_mode": {
    "name": "ipython",
    "version": 3
   },
   "file_extension": ".py",
   "mimetype": "text/x-python",
   "name": "python",
   "nbconvert_exporter": "python",
   "pygments_lexer": "ipython3",
   "version": "3.6.7"
  }
 },
 "nbformat": 4,
 "nbformat_minor": 4
}
