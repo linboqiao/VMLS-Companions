{
 "cells": [
  {
   "cell_type": "code",
   "execution_count": 1,
   "metadata": {},
   "outputs": [],
   "source": [
    "import numpy as np\n",
    "import numpy.linalg as npl\n",
    "import scipy.linalg as spl\n",
    "import sklearn.metrics as sklm\n",
    "import math\n",
    "import matplotlib.pyplot as plt\n",
    "import pandas as pd #for debugging\n",
    "plt.rcParams['figure.figsize'] = [6, 6]\n",
    "from IPython.core.interactiveshell import InteractiveShell\n",
    "InteractiveShell.ast_node_interactivity = \"all\""
   ]
  },
  {
   "cell_type": "markdown",
   "metadata": {},
   "source": [
    "# 16.1 Constrained Least Squares"
   ]
  },
  {
   "cell_type": "code",
   "execution_count": 2,
   "metadata": {},
   "outputs": [],
   "source": [
    "# Julia cls_solve implementation from https://github.com/VMLS-book/VMLS.jl/blob/master/src/VMLS.jl\n",
    "#function cls_solve(A,b,C,d)\n",
    "#     m, n = size(A)\n",
    "#     p, n = size(C)\n",
    "#     Q, R = qr([A; C])\n",
    "#     Q = Matrix(Q)\n",
    "#     Q1 = Q[1:m,:]\n",
    "#     Q2 = Q[m+1:m+p,:]\n",
    "#     Qtil, Rtil = qr(Q2')\n",
    "#     Qtil = Matrix(Qtil)\n",
    "#     w = Rtil \\ (2*Qtil'*Q1'*b - 2*(Rtil'\\d))\n",
    "#     return R \\ (Q1'*b - Q2'*w/2)\n",
    "# end"
   ]
  },
  {
   "cell_type": "code",
   "execution_count": 3,
   "metadata": {},
   "outputs": [],
   "source": [
    "def cls_solve(A,b,C,d):\n",
    "    m,n = np.shape(A)\n",
    "    p,n = np.shape(C)\n",
    "    Q,R = npl.qr(np.vstack([A,C]))\n",
    "    Q1 = Q[0:m,:]\n",
    "    Q2 = Q[m:m+p,:]\n",
    "    Qtil, Rtil = npl.qr(Q2.T)\n",
    "    first = np.vstack(np.matmul(np.matmul(2*Qtil.T , Q1.T),b))\n",
    "    denom = first - np.vstack((2*(npl.lstsq(Rtil.T,d)[0])))\n",
    "    w = npl.lstsq(Rtil, denom)[0]\n",
    "    return npl.lstsq(R,np.vstack(np.matmul(Q1.T,b)) - np.matmul(Q2.T , w)/2)[0]"
   ]
  },
  {
   "cell_type": "code",
   "execution_count": 4,
   "metadata": {},
   "outputs": [],
   "source": [
    "M = 70\n",
    "N = 2*M\n",
    "xleft, xright = np.random.rand(M) - 1, np.random.rand(M)\n",
    "x = np.vstack(np.block([xleft,xright]))\n",
    "y = x**3 - x + .4 /(1+(25*(np.square(x))))+np.vstack(.05*np.random.randn(N))\n",
    "n = 4\n",
    "A = np.vstack([(np.hstack([np.flip(np.vander(xleft,n),1),np.zeros((M,n))])),np.hstack([np.zeros((M,n)), np.flip(np.vander(xright,n),1)])])\n",
    "b = y\n",
    "one = np.block([1,np.zeros((1,n-1)), -1,np.zeros((1,n-1))])\n",
    "two = np.block([0,1,np.zeros((1,n-2)), 0, -1, np.zeros((1,n-2))])\n",
    "C = np.vstack([one,two])\n",
    "d = np.zeros((2,1))"
   ]
  },
  {
   "cell_type": "code",
   "execution_count": 5,
   "metadata": {},
   "outputs": [
    {
     "name": "stderr",
     "output_type": "stream",
     "text": [
      "/home/linbo/anaconda3/envs/nlu/lib/python3.6/site-packages/ipykernel_launcher.py:9: FutureWarning: `rcond` parameter will change to the default of machine precision times ``max(M, N)`` where M and N are the input matrix dimensions.\n",
      "To use the future default and silence this warning we advise to pass `rcond=None`, to keep using the old, explicitly pass `rcond=-1`.\n",
      "  if __name__ == '__main__':\n",
      "/home/linbo/anaconda3/envs/nlu/lib/python3.6/site-packages/ipykernel_launcher.py:10: FutureWarning: `rcond` parameter will change to the default of machine precision times ``max(M, N)`` where M and N are the input matrix dimensions.\n",
      "To use the future default and silence this warning we advise to pass `rcond=None`, to keep using the old, explicitly pass `rcond=-1`.\n",
      "  # Remove the CWD from sys.path while we load stuff.\n",
      "/home/linbo/anaconda3/envs/nlu/lib/python3.6/site-packages/ipykernel_launcher.py:11: FutureWarning: `rcond` parameter will change to the default of machine precision times ``max(M, N)`` where M and N are the input matrix dimensions.\n",
      "To use the future default and silence this warning we advise to pass `rcond=None`, to keep using the old, explicitly pass `rcond=-1`.\n",
      "  # This is added back by InteractiveShellApp.init_path()\n"
     ]
    }
   ],
   "source": [
    "theta = cls_solve(A,b,C,d)\n",
    "Npl = 200\n",
    "xpl_left = np.linspace(-1,0,Npl) #continuity constraint 1\n",
    "ypl_left = np.matmul(np.flip(np.vander(xpl_left,4),1) , theta[0:n])\n",
    "xpl_right = np.linspace(0,1,Npl) #continuity constraint 2\n",
    "ypl_right = np.matmul(np.flip(np.vander(xpl_right,4),1),theta[n:])"
   ]
  },
  {
   "cell_type": "code",
   "execution_count": 6,
   "metadata": {},
   "outputs": [
    {
     "data": {
      "text/plain": [
       "<matplotlib.collections.PathCollection at 0x7fa34ecb6a90>"
      ]
     },
     "execution_count": 6,
     "metadata": {},
     "output_type": "execute_result"
    },
    {
     "data": {
      "text/plain": [
       "[<matplotlib.lines.Line2D at 0x7fa3885a2588>]"
      ]
     },
     "execution_count": 6,
     "metadata": {},
     "output_type": "execute_result"
    },
    {
     "data": {
      "text/plain": [
       "[<matplotlib.lines.Line2D at 0x7fa34ecb6e80>]"
      ]
     },
     "execution_count": 6,
     "metadata": {},
     "output_type": "execute_result"
    },
    {
     "data": {
      "image/png": "[encoded data removed]",
      "text/plain": [
       "<Figure size 432x288 with 1 Axes>"
      ]
     },
     "metadata": {
      "needs_background": "light"
     },
     "output_type": "display_data"
    }
   ],
   "source": [
    "plt.scatter(x,y)\n",
    "plt.plot(xpl_left,ypl_left)\n",
    "plt.plot(xpl_right,ypl_right)"
   ]
  },
  {
   "cell_type": "code",
   "execution_count": 7,
   "metadata": {},
   "outputs": [
    {
     "name": "stderr",
     "output_type": "stream",
     "text": [
      "/home/linbo/anaconda3/envs/nlu/lib/python3.6/site-packages/ipykernel_launcher.py:5: FutureWarning: `rcond` parameter will change to the default of machine precision times ``max(M, N)`` where M and N are the input matrix dimensions.\n",
      "To use the future default and silence this warning we advise to pass `rcond=None`, to keep using the old, explicitly pass `rcond=-1`.\n",
      "  \"\"\"\n"
     ]
    },
    {
     "data": {
      "text/plain": [
       "array([  62.07662454,   99.98500403, 1442.83746254])"
      ]
     },
     "execution_count": 7,
     "metadata": {},
     "output_type": "execute_result"
    }
   ],
   "source": [
    "#recall advertising budget problem on section 12.4:\n",
    "R = np.vstack([[.97,1.86,.41],[1.23,2.18,.53],[.8,1.24,.62],[1.29,.98,.51],[1.1,1.23,.69],[.67,.34,.54],[.87,.26,.62],[1.1,.16,.48],[1.92,.22,.71],[1.29,.12,.62]])\n",
    "m,n = np.shape(R)\n",
    "vdes = 1e3 * np.ones(m)\n",
    "s = npl.lstsq(R,vdes)[0]\n",
    "s"
   ]
  },
  {
   "cell_type": "code",
   "execution_count": 8,
   "metadata": {},
   "outputs": [
    {
     "name": "stderr",
     "output_type": "stream",
     "text": [
      "/home/linbo/anaconda3/envs/nlu/lib/python3.6/site-packages/ipykernel_launcher.py:9: FutureWarning: `rcond` parameter will change to the default of machine precision times ``max(M, N)`` where M and N are the input matrix dimensions.\n",
      "To use the future default and silence this warning we advise to pass `rcond=None`, to keep using the old, explicitly pass `rcond=-1`.\n",
      "  if __name__ == '__main__':\n",
      "/home/linbo/anaconda3/envs/nlu/lib/python3.6/site-packages/ipykernel_launcher.py:10: FutureWarning: `rcond` parameter will change to the default of machine precision times ``max(M, N)`` where M and N are the input matrix dimensions.\n",
      "To use the future default and silence this warning we advise to pass `rcond=None`, to keep using the old, explicitly pass `rcond=-1`.\n",
      "  # Remove the CWD from sys.path while we load stuff.\n",
      "/home/linbo/anaconda3/envs/nlu/lib/python3.6/site-packages/ipykernel_launcher.py:11: FutureWarning: `rcond` parameter will change to the default of machine precision times ``max(M, N)`` where M and N are the input matrix dimensions.\n",
      "To use the future default and silence this warning we advise to pass `rcond=None`, to keep using the old, explicitly pass `rcond=-1`.\n",
      "  # This is added back by InteractiveShellApp.init_path()\n"
     ]
    },
    {
     "data": {
      "text/plain": [
       "array([[315.16818459],\n",
       "       [109.86643348],\n",
       "       [858.96538193]])"
      ]
     },
     "execution_count": 8,
     "metadata": {},
     "output_type": "execute_result"
    }
   ],
   "source": [
    "#one can add a total budget constraint given these tools:\n",
    "cls_solve(R,vdes, np.ones((1,n)), np.vstack([1284]))"
   ]
  },
  {
   "cell_type": "code",
   "execution_count": 9,
   "metadata": {},
   "outputs": [
    {
     "name": "stderr",
     "output_type": "stream",
     "text": [
      "/home/linbo/anaconda3/envs/nlu/lib/python3.6/site-packages/ipykernel_launcher.py:9: FutureWarning: `rcond` parameter will change to the default of machine precision times ``max(M, N)`` where M and N are the input matrix dimensions.\n",
      "To use the future default and silence this warning we advise to pass `rcond=None`, to keep using the old, explicitly pass `rcond=-1`.\n",
      "  if __name__ == '__main__':\n",
      "/home/linbo/anaconda3/envs/nlu/lib/python3.6/site-packages/ipykernel_launcher.py:10: FutureWarning: `rcond` parameter will change to the default of machine precision times ``max(M, N)`` where M and N are the input matrix dimensions.\n",
      "To use the future default and silence this warning we advise to pass `rcond=None`, to keep using the old, explicitly pass `rcond=-1`.\n",
      "  # Remove the CWD from sys.path while we load stuff.\n",
      "/home/linbo/anaconda3/envs/nlu/lib/python3.6/site-packages/ipykernel_launcher.py:11: FutureWarning: `rcond` parameter will change to the default of machine precision times ``max(M, N)`` where M and N are the input matrix dimensions.\n",
      "To use the future default and silence this warning we advise to pass `rcond=None`, to keep using the old, explicitly pass `rcond=-1`.\n",
      "  # This is added back by InteractiveShellApp.init_path()\n"
     ]
    },
    {
     "data": {
      "text/plain": [
       "array([[ 0.05454545],\n",
       "       [ 0.04242424],\n",
       "       [ 0.03030303],\n",
       "       [ 0.01818182],\n",
       "       [ 0.00606061],\n",
       "       [-0.00606061],\n",
       "       [-0.01818182],\n",
       "       [-0.03030303],\n",
       "       [-0.04242424],\n",
       "       [-0.05454545]])"
      ]
     },
     "execution_count": 9,
     "metadata": {},
     "output_type": "execute_result"
    }
   ],
   "source": [
    "#minimum norm force sequence\n",
    "A,b = np.eye(10),np.zeros((10,1))\n",
    "C = np.vstack([np.ones((1,10)),np.linspace(9.5,.5,10)])\n",
    "d = np.vstack([0,1])\n",
    "fln = cls_solve(A,b,C,d)\n",
    "fln"
   ]
  },
  {
   "cell_type": "markdown",
   "metadata": {},
   "source": [
    "# 16.2 Solution"
   ]
  },
  {
   "cell_type": "code",
   "execution_count": 10,
   "metadata": {},
   "outputs": [],
   "source": [
    "A,b,C,d = np.random.randn(10,5),np.random.randn(10),np.random.randn(2,5),np.random.randn(2)"
   ]
  },
  {
   "cell_type": "code",
   "execution_count": 11,
   "metadata": {},
   "outputs": [],
   "source": [
    "def cls_solve_kkt(A,b,C,d):\n",
    "    m,n = np.shape(A)\n",
    "    p,n = np.shape(C)\n",
    "    G = np.matmul(A.T,A) #Gram\n",
    "    KKT = np.vstack([np.hstack([2*G, C.T]),np.hstack([C,np.zeros((p,p))])])\n",
    "    xzhat = np.vstack(npl.lstsq(KKT,np.hstack([np.matmul(2*A.T,b),d]))[0])\n",
    "    return xzhat[0:n,:]"
   ]
  },
  {
   "cell_type": "code",
   "execution_count": 12,
   "metadata": {},
   "outputs": [
    {
     "name": "stderr",
     "output_type": "stream",
     "text": [
      "/home/linbo/anaconda3/envs/nlu/lib/python3.6/site-packages/ipykernel_launcher.py:6: FutureWarning: `rcond` parameter will change to the default of machine precision times ``max(M, N)`` where M and N are the input matrix dimensions.\n",
      "To use the future default and silence this warning we advise to pass `rcond=None`, to keep using the old, explicitly pass `rcond=-1`.\n",
      "  \n"
     ]
    },
    {
     "data": {
      "text/plain": [
       "array([[3.33066907e-16],\n",
       "       [0.00000000e+00]])"
      ]
     },
     "execution_count": 12,
     "metadata": {},
     "output_type": "execute_result"
    }
   ],
   "source": [
    "x = cls_solve_kkt(A,b,C,d)\n",
    "np.matmul(C,x) - np.vstack(d) #residual small"
   ]
  },
  {
   "cell_type": "markdown",
   "metadata": {},
   "source": [
    "# 16.3 Solving Constrained Least Squares Problems"
   ]
  },
  {
   "cell_type": "code",
   "execution_count": 13,
   "metadata": {},
   "outputs": [
    {
     "name": "stderr",
     "output_type": "stream",
     "text": [
      "/home/linbo/anaconda3/envs/nlu/lib/python3.6/site-packages/ipykernel_launcher.py:6: FutureWarning: `rcond` parameter will change to the default of machine precision times ``max(M, N)`` where M and N are the input matrix dimensions.\n",
      "To use the future default and silence this warning we advise to pass `rcond=None`, to keep using the old, explicitly pass `rcond=-1`.\n",
      "  \n",
      "/home/linbo/anaconda3/envs/nlu/lib/python3.6/site-packages/ipykernel_launcher.py:9: FutureWarning: `rcond` parameter will change to the default of machine precision times ``max(M, N)`` where M and N are the input matrix dimensions.\n",
      "To use the future default and silence this warning we advise to pass `rcond=None`, to keep using the old, explicitly pass `rcond=-1`.\n",
      "  if __name__ == '__main__':\n",
      "/home/linbo/anaconda3/envs/nlu/lib/python3.6/site-packages/ipykernel_launcher.py:10: FutureWarning: `rcond` parameter will change to the default of machine precision times ``max(M, N)`` where M and N are the input matrix dimensions.\n",
      "To use the future default and silence this warning we advise to pass `rcond=None`, to keep using the old, explicitly pass `rcond=-1`.\n",
      "  # Remove the CWD from sys.path while we load stuff.\n",
      "/home/linbo/anaconda3/envs/nlu/lib/python3.6/site-packages/ipykernel_launcher.py:11: FutureWarning: `rcond` parameter will change to the default of machine precision times ``max(M, N)`` where M and N are the input matrix dimensions.\n",
      "To use the future default and silence this warning we advise to pass `rcond=None`, to keep using the old, explicitly pass `rcond=-1`.\n",
      "  # This is added back by InteractiveShellApp.init_path()\n"
     ]
    },
    {
     "data": {
      "text/plain": [
       "array([[-0.51502093],\n",
       "       [ 0.08329317],\n",
       "       [-0.07127897],\n",
       "       [-0.0212267 ],\n",
       "       [ 0.28312582]])"
      ]
     },
     "execution_count": 13,
     "metadata": {},
     "output_type": "execute_result"
    },
    {
     "data": {
      "text/plain": [
       "array([[-0.51502093],\n",
       "       [ 0.08329317],\n",
       "       [-0.07127897],\n",
       "       [-0.0212267 ],\n",
       "       [ 0.28312582]])"
      ]
     },
     "execution_count": 13,
     "metadata": {},
     "output_type": "execute_result"
    }
   ],
   "source": [
    "def cls_solve(A,b,C,d):\n",
    "    m,n = np.shape(A)\n",
    "    p,n = np.shape(C)\n",
    "    Q,R = npl.qr(np.vstack([A,C]))\n",
    "    Q1 = Q[0:m,:]\n",
    "    Q2 = Q[m:m+p,:]\n",
    "    Qtil, Rtil = npl.qr(Q2.T)\n",
    "    first = np.vstack(np.matmul(np.matmul(2*Qtil.T , Q1.T),b)) #splitting line below for readability\n",
    "    denom = first - np.vstack((2*(npl.lstsq(Rtil.T,d)[0]))) #splitting line below for readability\n",
    "    w = npl.lstsq(Rtil, denom)[0]\n",
    "    return npl.lstsq(R,np.vstack(np.matmul(Q1.T,b)) - np.matmul(Q2.T , w)/2)[0]\n",
    "\n",
    "m,n,p = 10,5,2\n",
    "A,b,C,d = np.random.randn(m,n), np.random.randn(m),np.random.randn(p,n),np.random.randn(p)\n",
    "xKKT = cls_solve_kkt(A,b,C,d)\n",
    "xQR = cls_solve(A,b,C,d)\n",
    "xKKT\n",
    "xQR"
   ]
  },
  {
   "cell_type": "code",
   "execution_count": 14,
   "metadata": {},
   "outputs": [
    {
     "data": {
      "text/plain": [
       "1.2842953525656932e-15"
      ]
     },
     "execution_count": 14,
     "metadata": {},
     "output_type": "execute_result"
    }
   ],
   "source": [
    "npl.norm(xKKT-xQR) #small residual"
   ]
  },
  {
   "cell_type": "code",
   "execution_count": 15,
   "metadata": {},
   "outputs": [
    {
     "name": "stderr",
     "output_type": "stream",
     "text": [
      "/home/linbo/anaconda3/envs/nlu/lib/python3.6/site-packages/ipykernel_launcher.py:9: FutureWarning: `rcond` parameter will change to the default of machine precision times ``max(M, N)`` where M and N are the input matrix dimensions.\n",
      "To use the future default and silence this warning we advise to pass `rcond=None`, to keep using the old, explicitly pass `rcond=-1`.\n",
      "  if __name__ == '__main__':\n",
      "/home/linbo/anaconda3/envs/nlu/lib/python3.6/site-packages/ipykernel_launcher.py:10: FutureWarning: `rcond` parameter will change to the default of machine precision times ``max(M, N)`` where M and N are the input matrix dimensions.\n",
      "To use the future default and silence this warning we advise to pass `rcond=None`, to keep using the old, explicitly pass `rcond=-1`.\n",
      "  # Remove the CWD from sys.path while we load stuff.\n",
      "/home/linbo/anaconda3/envs/nlu/lib/python3.6/site-packages/ipykernel_launcher.py:11: FutureWarning: `rcond` parameter will change to the default of machine precision times ``max(M, N)`` where M and N are the input matrix dimensions.\n",
      "To use the future default and silence this warning we advise to pass `rcond=None`, to keep using the old, explicitly pass `rcond=-1`.\n",
      "  # This is added back by InteractiveShellApp.init_path()\n"
     ]
    },
    {
     "data": {
      "text/plain": [
       "1.6527135367200973e-14"
      ]
     },
     "execution_count": 15,
     "metadata": {},
     "output_type": "execute_result"
    }
   ],
   "source": [
    "#sparse constrained least squares\n",
    "def cls_solve_sparse(A,b,C,d):\n",
    "    m,n = np.shape(A)\n",
    "    p,n = np.shape(C)\n",
    "    one = np.hstack([np.zeros((n,n)),A.T, C.T])\n",
    "    two = np.hstack([A, -np.eye(np.shape(A)[0])/2, np.zeros((m,p))]) #2nd object written in J as -I/2, wow\n",
    "    three = np.hstack([C, np.zeros((p,m)), np.zeros((p,p))])\n",
    "    bigA = np.vstack([one,two,three])\n",
    "    xyzhat = npl.lstsq(bigA,np.vstack([np.zeros((n,1)),np.vstack(b),np.vstack(d)]))[0]\n",
    "    xhat = xyzhat[:n]\n",
    "    return xhat\n",
    "    \n",
    "m,n,p = 100,50,10\n",
    "A,b,C,d = np.random.randn(m,n), np.random.randn(m),np.random.randn(p,n),np.random.randn(p)\n",
    "x1 = cls_solve(A,b,C,d)\n",
    "x2 = cls_solve_sparse(A,b,C,d)\n",
    "npl.norm(x1-x2)"
   ]
  },
  {
   "cell_type": "code",
   "execution_count": 16,
   "metadata": {},
   "outputs": [],
   "source": [
    "p,n = 50,500\n",
    "C = np.random.randn(p,n)\n",
    "d = np.random.randn(p)"
   ]
  },
  {
   "cell_type": "code",
   "execution_count": 17,
   "metadata": {},
   "outputs": [
    {
     "name": "stderr",
     "output_type": "stream",
     "text": [
      "/home/linbo/anaconda3/envs/nlu/lib/python3.6/site-packages/ipykernel_launcher.py:1: FutureWarning: `rcond` parameter will change to the default of machine precision times ``max(M, N)`` where M and N are the input matrix dimensions.\n",
      "To use the future default and silence this warning we advise to pass `rcond=None`, to keep using the old, explicitly pass `rcond=-1`.\n",
      "  \"\"\"Entry point for launching an IPython kernel.\n",
      "/home/linbo/anaconda3/envs/nlu/lib/python3.6/site-packages/ipykernel_launcher.py:9: FutureWarning: `rcond` parameter will change to the default of machine precision times ``max(M, N)`` where M and N are the input matrix dimensions.\n",
      "To use the future default and silence this warning we advise to pass `rcond=None`, to keep using the old, explicitly pass `rcond=-1`.\n",
      "  if __name__ == '__main__':\n",
      "/home/linbo/anaconda3/envs/nlu/lib/python3.6/site-packages/ipykernel_launcher.py:10: FutureWarning: `rcond` parameter will change to the default of machine precision times ``max(M, N)`` where M and N are the input matrix dimensions.\n",
      "To use the future default and silence this warning we advise to pass `rcond=None`, to keep using the old, explicitly pass `rcond=-1`.\n",
      "  # Remove the CWD from sys.path while we load stuff.\n",
      "/home/linbo/anaconda3/envs/nlu/lib/python3.6/site-packages/ipykernel_launcher.py:11: FutureWarning: `rcond` parameter will change to the default of machine precision times ``max(M, N)`` where M and N are the input matrix dimensions.\n",
      "To use the future default and silence this warning we advise to pass `rcond=None`, to keep using the old, explicitly pass `rcond=-1`.\n",
      "  # This is added back by InteractiveShellApp.init_path()\n"
     ]
    },
    {
     "data": {
      "text/plain": [
       "array([[0.02259717],\n",
       "       [0.01777961],\n",
       "       [0.01198172]])"
      ]
     },
     "execution_count": 17,
     "metadata": {},
     "output_type": "execute_result"
    },
    {
     "data": {
      "text/plain": [
       "array([[0.02259717],\n",
       "       [0.01777961],\n",
       "       [0.01198172]])"
      ]
     },
     "execution_count": 17,
     "metadata": {},
     "output_type": "execute_result"
    },
    {
     "data": {
      "text/plain": [
       "array([[0.02259717],\n",
       "       [0.01777961],\n",
       "       [0.01198172]])"
      ]
     },
     "execution_count": 17,
     "metadata": {},
     "output_type": "execute_result"
    }
   ],
   "source": [
    "x1 = np.vstack(npl.lstsq(C,d)[0])\n",
    "x2 = cls_solve(np.eye(n), np.zeros((n,1)), np.vstack(C), np.vstack(d))\n",
    "x3 = np.vstack(np.matmul(npl.pinv(C),d))\n",
    "x1[:3]\n",
    "x2[:3]\n",
    "x3[:3]"
   ]
  },
  {
   "cell_type": "code",
   "execution_count": 18,
   "metadata": {},
   "outputs": [
    {
     "data": {
      "text/plain": [
       "3.474569285686952e-15"
      ]
     },
     "execution_count": 18,
     "metadata": {},
     "output_type": "execute_result"
    },
    {
     "data": {
      "text/plain": [
       "3.5015696962894202e-15"
      ]
     },
     "execution_count": 18,
     "metadata": {},
     "output_type": "execute_result"
    }
   ],
   "source": [
    "npl.norm(x1-x2)\n",
    "npl.norm(x2-x3)"
   ]
  }
 ],
 "metadata": {
  "kernelspec": {
   "display_name": "Python 3",
   "language": "python",
   "name": "python3"
  },
  "language_info": {
   "codemirror_mode": {
    "name": "ipython",
    "version": 3
   },
   "file_extension": ".py",
   "mimetype": "text/x-python",
   "name": "python",
   "nbconvert_exporter": "python",
   "pygments_lexer": "ipython3",
   "version": "3.6.7"
  }
 },
 "nbformat": 4,
 "nbformat_minor": 4
}
